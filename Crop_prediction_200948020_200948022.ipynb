{
  "nbformat": 4,
  "nbformat_minor": 0,
  "metadata": {
    "colab": {
      "provenance": []
    },
    "kernelspec": {
      "name": "python3",
      "display_name": "Python 3"
    },
    "language_info": {
      "name": "python"
    }
  },
  "cells": [
    {
      "cell_type": "markdown",
      "metadata": {
        "id": "U53Ffa7i-zN3"
      },
      "source": [
        "## **CROP PREDICTION USING MACHINE LEARNING**\n",
        "\n",
        "**Madhuri Shripathi Rao, Arushi Singh, Dr.N.V. Subba Reddy, Dr.U Dinesh Acharya**\n",
        "\n",
        "Department of Computer Science and Engineering\n",
        "\n",
        "Manipal Institute of Technology, Manipal, 576104\n",
        "\n",
        "Udupi district Karnataka, India\n",
        "\n",
        "27madhurirao@gmail.com\n",
        "\n",
        "arushisinghgangwar@gmail.com\n",
        "\n",
        "nvs.redddy@manipal.edu\n",
        "\n",
        "dinesh.acharya@manipal.edu\n",
        "\n",
        "\n"
      ]
    },
    {
      "cell_type": "code",
      "metadata": {
        "id": "VaKvxEb43moN"
      },
      "source": [
        "from sklearn.model_selection import train_test_split"
      ],
      "execution_count": null,
      "outputs": []
    },
    {
      "cell_type": "code",
      "metadata": {
        "id": "N-Xz-SEG4SA9"
      },
      "source": [
        "import pandas as pd"
      ],
      "execution_count": null,
      "outputs": []
    },
    {
      "cell_type": "code",
      "metadata": {
        "id": "w0q0ydlmTJZ6"
      },
      "source": [
        "#defining scatter_plot.\n",
        "import matplotlib.pyplot as plt\n",
        "def scatter_plot(title, y_predict):\n",
        "  plt.figure(figsize=(12,12))\n",
        "  plt.xticks(rotation=90)\n",
        "  plt.title(title,fontsize = 16)\n",
        "  plt.xlabel('Actual',fontsize = 15)\n",
        "  plt.ylabel('Predictions', fontsize =15)\n",
        "  plt.scatter(y_test,y_predict)\n",
        "  plt.show()"
      ],
      "execution_count": null,
      "outputs": []
    },
    {
      "cell_type": "code",
      "metadata": {
        "colab": {
          "base_uri": "https://localhost:8080/",
          "height": 414
        },
        "id": "DJuheFv_49Ah",
        "outputId": "fbced207-456f-42f2-8a2b-fee9abe8ec48"
      },
      "source": [
        "#Reading the dataet\n",
        "crop_df = pd.read_csv('/content/Crop_recommendation.csv')\n",
        "crop_df"
      ],
      "execution_count": null,
      "outputs": [
        {
          "output_type": "execute_result",
          "data": {
            "text/html": [
              "<div>\n",
              "<style scoped>\n",
              "    .dataframe tbody tr th:only-of-type {\n",
              "        vertical-align: middle;\n",
              "    }\n",
              "\n",
              "    .dataframe tbody tr th {\n",
              "        vertical-align: top;\n",
              "    }\n",
              "\n",
              "    .dataframe thead th {\n",
              "        text-align: right;\n",
              "    }\n",
              "</style>\n",
              "<table border=\"1\" class=\"dataframe\">\n",
              "  <thead>\n",
              "    <tr style=\"text-align: right;\">\n",
              "      <th></th>\n",
              "      <th>N</th>\n",
              "      <th>P</th>\n",
              "      <th>K</th>\n",
              "      <th>temperature</th>\n",
              "      <th>humidity</th>\n",
              "      <th>ph</th>\n",
              "      <th>rainfall</th>\n",
              "      <th>label</th>\n",
              "    </tr>\n",
              "  </thead>\n",
              "  <tbody>\n",
              "    <tr>\n",
              "      <th>0</th>\n",
              "      <td>90</td>\n",
              "      <td>42</td>\n",
              "      <td>43</td>\n",
              "      <td>20.879744</td>\n",
              "      <td>82.002744</td>\n",
              "      <td>6.502985</td>\n",
              "      <td>202.935536</td>\n",
              "      <td>rice</td>\n",
              "    </tr>\n",
              "    <tr>\n",
              "      <th>1</th>\n",
              "      <td>85</td>\n",
              "      <td>58</td>\n",
              "      <td>41</td>\n",
              "      <td>21.770462</td>\n",
              "      <td>80.319644</td>\n",
              "      <td>7.038096</td>\n",
              "      <td>226.655537</td>\n",
              "      <td>rice</td>\n",
              "    </tr>\n",
              "    <tr>\n",
              "      <th>2</th>\n",
              "      <td>60</td>\n",
              "      <td>55</td>\n",
              "      <td>44</td>\n",
              "      <td>23.004459</td>\n",
              "      <td>82.320763</td>\n",
              "      <td>7.840207</td>\n",
              "      <td>263.964248</td>\n",
              "      <td>rice</td>\n",
              "    </tr>\n",
              "    <tr>\n",
              "      <th>3</th>\n",
              "      <td>74</td>\n",
              "      <td>35</td>\n",
              "      <td>40</td>\n",
              "      <td>26.491096</td>\n",
              "      <td>80.158363</td>\n",
              "      <td>6.980401</td>\n",
              "      <td>242.864034</td>\n",
              "      <td>rice</td>\n",
              "    </tr>\n",
              "    <tr>\n",
              "      <th>4</th>\n",
              "      <td>78</td>\n",
              "      <td>42</td>\n",
              "      <td>42</td>\n",
              "      <td>20.130175</td>\n",
              "      <td>81.604873</td>\n",
              "      <td>7.628473</td>\n",
              "      <td>262.717340</td>\n",
              "      <td>rice</td>\n",
              "    </tr>\n",
              "    <tr>\n",
              "      <th>...</th>\n",
              "      <td>...</td>\n",
              "      <td>...</td>\n",
              "      <td>...</td>\n",
              "      <td>...</td>\n",
              "      <td>...</td>\n",
              "      <td>...</td>\n",
              "      <td>...</td>\n",
              "      <td>...</td>\n",
              "    </tr>\n",
              "    <tr>\n",
              "      <th>2195</th>\n",
              "      <td>107</td>\n",
              "      <td>34</td>\n",
              "      <td>32</td>\n",
              "      <td>26.774637</td>\n",
              "      <td>66.413269</td>\n",
              "      <td>6.780064</td>\n",
              "      <td>177.774507</td>\n",
              "      <td>coffee</td>\n",
              "    </tr>\n",
              "    <tr>\n",
              "      <th>2196</th>\n",
              "      <td>99</td>\n",
              "      <td>15</td>\n",
              "      <td>27</td>\n",
              "      <td>27.417112</td>\n",
              "      <td>56.636362</td>\n",
              "      <td>6.086922</td>\n",
              "      <td>127.924610</td>\n",
              "      <td>coffee</td>\n",
              "    </tr>\n",
              "    <tr>\n",
              "      <th>2197</th>\n",
              "      <td>118</td>\n",
              "      <td>33</td>\n",
              "      <td>30</td>\n",
              "      <td>24.131797</td>\n",
              "      <td>67.225123</td>\n",
              "      <td>6.362608</td>\n",
              "      <td>173.322839</td>\n",
              "      <td>coffee</td>\n",
              "    </tr>\n",
              "    <tr>\n",
              "      <th>2198</th>\n",
              "      <td>117</td>\n",
              "      <td>32</td>\n",
              "      <td>34</td>\n",
              "      <td>26.272418</td>\n",
              "      <td>52.127394</td>\n",
              "      <td>6.758793</td>\n",
              "      <td>127.175293</td>\n",
              "      <td>coffee</td>\n",
              "    </tr>\n",
              "    <tr>\n",
              "      <th>2199</th>\n",
              "      <td>104</td>\n",
              "      <td>18</td>\n",
              "      <td>30</td>\n",
              "      <td>23.603016</td>\n",
              "      <td>60.396475</td>\n",
              "      <td>6.779833</td>\n",
              "      <td>140.937041</td>\n",
              "      <td>coffee</td>\n",
              "    </tr>\n",
              "  </tbody>\n",
              "</table>\n",
              "<p>2200 rows × 8 columns</p>\n",
              "</div>"
            ],
            "text/plain": [
              "        N   P   K  temperature   humidity        ph    rainfall   label\n",
              "0      90  42  43    20.879744  82.002744  6.502985  202.935536    rice\n",
              "1      85  58  41    21.770462  80.319644  7.038096  226.655537    rice\n",
              "2      60  55  44    23.004459  82.320763  7.840207  263.964248    rice\n",
              "3      74  35  40    26.491096  80.158363  6.980401  242.864034    rice\n",
              "4      78  42  42    20.130175  81.604873  7.628473  262.717340    rice\n",
              "...   ...  ..  ..          ...        ...       ...         ...     ...\n",
              "2195  107  34  32    26.774637  66.413269  6.780064  177.774507  coffee\n",
              "2196   99  15  27    27.417112  56.636362  6.086922  127.924610  coffee\n",
              "2197  118  33  30    24.131797  67.225123  6.362608  173.322839  coffee\n",
              "2198  117  32  34    26.272418  52.127394  6.758793  127.175293  coffee\n",
              "2199  104  18  30    23.603016  60.396475  6.779833  140.937041  coffee\n",
              "\n",
              "[2200 rows x 8 columns]"
            ]
          },
          "metadata": {
            "tags": []
          },
          "execution_count": 4
        }
      ]
    },
    {
      "cell_type": "code",
      "metadata": {
        "colab": {
          "base_uri": "https://localhost:8080/"
        },
        "id": "up7OJ9Rr6tVM",
        "outputId": "30c8da41-215b-4b08-b7a4-8d470cc35d67"
      },
      "source": [
        "#Getting the number of rows and columns in crop dataframe.\n",
        "crop_df.shape"
      ],
      "execution_count": null,
      "outputs": [
        {
          "output_type": "execute_result",
          "data": {
            "text/plain": [
              "(2200, 8)"
            ]
          },
          "metadata": {
            "tags": []
          },
          "execution_count": 5
        }
      ]
    },
    {
      "cell_type": "code",
      "metadata": {
        "colab": {
          "base_uri": "https://localhost:8080/"
        },
        "id": "W5e_YI1M2iAN",
        "outputId": "00f62948-7a85-4851-9c7e-a5f271279588"
      },
      "source": [
        "#misssingvalues\n",
        "crop_df.isnull().sum()"
      ],
      "execution_count": null,
      "outputs": [
        {
          "output_type": "execute_result",
          "data": {
            "text/plain": [
              "N              0\n",
              "P              0\n",
              "K              0\n",
              "temperature    0\n",
              "humidity       0\n",
              "ph             0\n",
              "rainfall       0\n",
              "label          0\n",
              "dtype: int64"
            ]
          },
          "metadata": {
            "tags": []
          },
          "execution_count": 6
        }
      ]
    },
    {
      "cell_type": "code",
      "metadata": {
        "id": "swILBI6AtXUF",
        "colab": {
          "base_uri": "https://localhost:8080/",
          "height": 294
        },
        "outputId": "a752d3d1-fd08-4fbc-9790-250908c809e0"
      },
      "source": [
        "#describing the dataset\n",
        "crop_df.describe()"
      ],
      "execution_count": null,
      "outputs": [
        {
          "output_type": "execute_result",
          "data": {
            "text/html": [
              "<div>\n",
              "<style scoped>\n",
              "    .dataframe tbody tr th:only-of-type {\n",
              "        vertical-align: middle;\n",
              "    }\n",
              "\n",
              "    .dataframe tbody tr th {\n",
              "        vertical-align: top;\n",
              "    }\n",
              "\n",
              "    .dataframe thead th {\n",
              "        text-align: right;\n",
              "    }\n",
              "</style>\n",
              "<table border=\"1\" class=\"dataframe\">\n",
              "  <thead>\n",
              "    <tr style=\"text-align: right;\">\n",
              "      <th></th>\n",
              "      <th>N</th>\n",
              "      <th>P</th>\n",
              "      <th>K</th>\n",
              "      <th>temperature</th>\n",
              "      <th>humidity</th>\n",
              "      <th>ph</th>\n",
              "      <th>rainfall</th>\n",
              "    </tr>\n",
              "  </thead>\n",
              "  <tbody>\n",
              "    <tr>\n",
              "      <th>count</th>\n",
              "      <td>2200.000000</td>\n",
              "      <td>2200.000000</td>\n",
              "      <td>2200.000000</td>\n",
              "      <td>2200.000000</td>\n",
              "      <td>2200.000000</td>\n",
              "      <td>2200.000000</td>\n",
              "      <td>2200.000000</td>\n",
              "    </tr>\n",
              "    <tr>\n",
              "      <th>mean</th>\n",
              "      <td>50.551818</td>\n",
              "      <td>53.362727</td>\n",
              "      <td>48.149091</td>\n",
              "      <td>25.616244</td>\n",
              "      <td>71.481779</td>\n",
              "      <td>6.469480</td>\n",
              "      <td>103.463655</td>\n",
              "    </tr>\n",
              "    <tr>\n",
              "      <th>std</th>\n",
              "      <td>36.917334</td>\n",
              "      <td>32.985883</td>\n",
              "      <td>50.647931</td>\n",
              "      <td>5.063749</td>\n",
              "      <td>22.263812</td>\n",
              "      <td>0.773938</td>\n",
              "      <td>54.958389</td>\n",
              "    </tr>\n",
              "    <tr>\n",
              "      <th>min</th>\n",
              "      <td>0.000000</td>\n",
              "      <td>5.000000</td>\n",
              "      <td>5.000000</td>\n",
              "      <td>8.825675</td>\n",
              "      <td>14.258040</td>\n",
              "      <td>3.504752</td>\n",
              "      <td>20.211267</td>\n",
              "    </tr>\n",
              "    <tr>\n",
              "      <th>25%</th>\n",
              "      <td>21.000000</td>\n",
              "      <td>28.000000</td>\n",
              "      <td>20.000000</td>\n",
              "      <td>22.769375</td>\n",
              "      <td>60.261953</td>\n",
              "      <td>5.971693</td>\n",
              "      <td>64.551686</td>\n",
              "    </tr>\n",
              "    <tr>\n",
              "      <th>50%</th>\n",
              "      <td>37.000000</td>\n",
              "      <td>51.000000</td>\n",
              "      <td>32.000000</td>\n",
              "      <td>25.598693</td>\n",
              "      <td>80.473146</td>\n",
              "      <td>6.425045</td>\n",
              "      <td>94.867624</td>\n",
              "    </tr>\n",
              "    <tr>\n",
              "      <th>75%</th>\n",
              "      <td>84.250000</td>\n",
              "      <td>68.000000</td>\n",
              "      <td>49.000000</td>\n",
              "      <td>28.561654</td>\n",
              "      <td>89.948771</td>\n",
              "      <td>6.923643</td>\n",
              "      <td>124.267508</td>\n",
              "    </tr>\n",
              "    <tr>\n",
              "      <th>max</th>\n",
              "      <td>140.000000</td>\n",
              "      <td>145.000000</td>\n",
              "      <td>205.000000</td>\n",
              "      <td>43.675493</td>\n",
              "      <td>99.981876</td>\n",
              "      <td>9.935091</td>\n",
              "      <td>298.560117</td>\n",
              "    </tr>\n",
              "  </tbody>\n",
              "</table>\n",
              "</div>"
            ],
            "text/plain": [
              "                 N            P  ...           ph     rainfall\n",
              "count  2200.000000  2200.000000  ...  2200.000000  2200.000000\n",
              "mean     50.551818    53.362727  ...     6.469480   103.463655\n",
              "std      36.917334    32.985883  ...     0.773938    54.958389\n",
              "min       0.000000     5.000000  ...     3.504752    20.211267\n",
              "25%      21.000000    28.000000  ...     5.971693    64.551686\n",
              "50%      37.000000    51.000000  ...     6.425045    94.867624\n",
              "75%      84.250000    68.000000  ...     6.923643   124.267508\n",
              "max     140.000000   145.000000  ...     9.935091   298.560117\n",
              "\n",
              "[8 rows x 7 columns]"
            ]
          },
          "metadata": {
            "tags": []
          },
          "execution_count": 7
        }
      ]
    },
    {
      "cell_type": "code",
      "metadata": {
        "colab": {
          "base_uri": "https://localhost:8080/",
          "height": 414
        },
        "id": "Yt6IoE4t5KVH",
        "outputId": "551215f8-ad64-46f9-ed0c-77636090d61e"
      },
      "source": [
        "#creating feature varible\n",
        "x = crop_df.iloc[:,:-1]\n",
        "x"
      ],
      "execution_count": null,
      "outputs": [
        {
          "output_type": "execute_result",
          "data": {
            "text/html": [
              "<div>\n",
              "<style scoped>\n",
              "    .dataframe tbody tr th:only-of-type {\n",
              "        vertical-align: middle;\n",
              "    }\n",
              "\n",
              "    .dataframe tbody tr th {\n",
              "        vertical-align: top;\n",
              "    }\n",
              "\n",
              "    .dataframe thead th {\n",
              "        text-align: right;\n",
              "    }\n",
              "</style>\n",
              "<table border=\"1\" class=\"dataframe\">\n",
              "  <thead>\n",
              "    <tr style=\"text-align: right;\">\n",
              "      <th></th>\n",
              "      <th>N</th>\n",
              "      <th>P</th>\n",
              "      <th>K</th>\n",
              "      <th>temperature</th>\n",
              "      <th>humidity</th>\n",
              "      <th>ph</th>\n",
              "      <th>rainfall</th>\n",
              "    </tr>\n",
              "  </thead>\n",
              "  <tbody>\n",
              "    <tr>\n",
              "      <th>0</th>\n",
              "      <td>90</td>\n",
              "      <td>42</td>\n",
              "      <td>43</td>\n",
              "      <td>20.879744</td>\n",
              "      <td>82.002744</td>\n",
              "      <td>6.502985</td>\n",
              "      <td>202.935536</td>\n",
              "    </tr>\n",
              "    <tr>\n",
              "      <th>1</th>\n",
              "      <td>85</td>\n",
              "      <td>58</td>\n",
              "      <td>41</td>\n",
              "      <td>21.770462</td>\n",
              "      <td>80.319644</td>\n",
              "      <td>7.038096</td>\n",
              "      <td>226.655537</td>\n",
              "    </tr>\n",
              "    <tr>\n",
              "      <th>2</th>\n",
              "      <td>60</td>\n",
              "      <td>55</td>\n",
              "      <td>44</td>\n",
              "      <td>23.004459</td>\n",
              "      <td>82.320763</td>\n",
              "      <td>7.840207</td>\n",
              "      <td>263.964248</td>\n",
              "    </tr>\n",
              "    <tr>\n",
              "      <th>3</th>\n",
              "      <td>74</td>\n",
              "      <td>35</td>\n",
              "      <td>40</td>\n",
              "      <td>26.491096</td>\n",
              "      <td>80.158363</td>\n",
              "      <td>6.980401</td>\n",
              "      <td>242.864034</td>\n",
              "    </tr>\n",
              "    <tr>\n",
              "      <th>4</th>\n",
              "      <td>78</td>\n",
              "      <td>42</td>\n",
              "      <td>42</td>\n",
              "      <td>20.130175</td>\n",
              "      <td>81.604873</td>\n",
              "      <td>7.628473</td>\n",
              "      <td>262.717340</td>\n",
              "    </tr>\n",
              "    <tr>\n",
              "      <th>...</th>\n",
              "      <td>...</td>\n",
              "      <td>...</td>\n",
              "      <td>...</td>\n",
              "      <td>...</td>\n",
              "      <td>...</td>\n",
              "      <td>...</td>\n",
              "      <td>...</td>\n",
              "    </tr>\n",
              "    <tr>\n",
              "      <th>2195</th>\n",
              "      <td>107</td>\n",
              "      <td>34</td>\n",
              "      <td>32</td>\n",
              "      <td>26.774637</td>\n",
              "      <td>66.413269</td>\n",
              "      <td>6.780064</td>\n",
              "      <td>177.774507</td>\n",
              "    </tr>\n",
              "    <tr>\n",
              "      <th>2196</th>\n",
              "      <td>99</td>\n",
              "      <td>15</td>\n",
              "      <td>27</td>\n",
              "      <td>27.417112</td>\n",
              "      <td>56.636362</td>\n",
              "      <td>6.086922</td>\n",
              "      <td>127.924610</td>\n",
              "    </tr>\n",
              "    <tr>\n",
              "      <th>2197</th>\n",
              "      <td>118</td>\n",
              "      <td>33</td>\n",
              "      <td>30</td>\n",
              "      <td>24.131797</td>\n",
              "      <td>67.225123</td>\n",
              "      <td>6.362608</td>\n",
              "      <td>173.322839</td>\n",
              "    </tr>\n",
              "    <tr>\n",
              "      <th>2198</th>\n",
              "      <td>117</td>\n",
              "      <td>32</td>\n",
              "      <td>34</td>\n",
              "      <td>26.272418</td>\n",
              "      <td>52.127394</td>\n",
              "      <td>6.758793</td>\n",
              "      <td>127.175293</td>\n",
              "    </tr>\n",
              "    <tr>\n",
              "      <th>2199</th>\n",
              "      <td>104</td>\n",
              "      <td>18</td>\n",
              "      <td>30</td>\n",
              "      <td>23.603016</td>\n",
              "      <td>60.396475</td>\n",
              "      <td>6.779833</td>\n",
              "      <td>140.937041</td>\n",
              "    </tr>\n",
              "  </tbody>\n",
              "</table>\n",
              "<p>2200 rows × 7 columns</p>\n",
              "</div>"
            ],
            "text/plain": [
              "        N   P   K  temperature   humidity        ph    rainfall\n",
              "0      90  42  43    20.879744  82.002744  6.502985  202.935536\n",
              "1      85  58  41    21.770462  80.319644  7.038096  226.655537\n",
              "2      60  55  44    23.004459  82.320763  7.840207  263.964248\n",
              "3      74  35  40    26.491096  80.158363  6.980401  242.864034\n",
              "4      78  42  42    20.130175  81.604873  7.628473  262.717340\n",
              "...   ...  ..  ..          ...        ...       ...         ...\n",
              "2195  107  34  32    26.774637  66.413269  6.780064  177.774507\n",
              "2196   99  15  27    27.417112  56.636362  6.086922  127.924610\n",
              "2197  118  33  30    24.131797  67.225123  6.362608  173.322839\n",
              "2198  117  32  34    26.272418  52.127394  6.758793  127.175293\n",
              "2199  104  18  30    23.603016  60.396475  6.779833  140.937041\n",
              "\n",
              "[2200 rows x 7 columns]"
            ]
          },
          "metadata": {
            "tags": []
          },
          "execution_count": 8
        }
      ]
    },
    {
      "cell_type": "code",
      "metadata": {
        "colab": {
          "base_uri": "https://localhost:8080/"
        },
        "id": "p_lZZ9GM580m",
        "outputId": "ddfaff04-ff45-4baa-fe2d-0f40e8364078"
      },
      "source": [
        "#creating target variable.\n",
        "y = crop_df.iloc[:,-1]\n",
        "y"
      ],
      "execution_count": null,
      "outputs": [
        {
          "output_type": "execute_result",
          "data": {
            "text/plain": [
              "0         rice\n",
              "1         rice\n",
              "2         rice\n",
              "3         rice\n",
              "4         rice\n",
              "         ...  \n",
              "2195    coffee\n",
              "2196    coffee\n",
              "2197    coffee\n",
              "2198    coffee\n",
              "2199    coffee\n",
              "Name: label, Length: 2200, dtype: object"
            ]
          },
          "metadata": {
            "tags": []
          },
          "execution_count": 9
        }
      ]
    },
    {
      "cell_type": "markdown",
      "metadata": {
        "id": "lXi4mgzrpCID"
      },
      "source": [
        "random_state is None by default which means every time when you run your program you will get different output because of splitting between train and test varies within.\n",
        "\n",
        "random_state = any int value means every time when you run your program you will get tehe same output because of splitting between train and test does not varies within."
      ]
    },
    {
      "cell_type": "code",
      "metadata": {
        "id": "MwWnEv026HDF"
      },
      "source": [
        "#Splitting the dataset in test and train.\n",
        "x_train, x_test, y_train, y_test = train_test_split(\n",
        "             x, y, test_size = 0.2, random_state=42)"
      ],
      "execution_count": null,
      "outputs": []
    },
    {
      "cell_type": "code",
      "metadata": {
        "colab": {
          "base_uri": "https://localhost:8080/"
        },
        "id": "-1YC-oR_6lZD",
        "outputId": "10cdd3ba-7f8f-4f60-b942-afc4c4eeaa7d"
      },
      "source": [
        "x_train.shape # displaying number of rows and columns of training feature set"
      ],
      "execution_count": null,
      "outputs": [
        {
          "output_type": "execute_result",
          "data": {
            "text/plain": [
              "(1760, 7)"
            ]
          },
          "metadata": {
            "tags": []
          },
          "execution_count": 11
        }
      ]
    },
    {
      "cell_type": "code",
      "metadata": {
        "colab": {
          "base_uri": "https://localhost:8080/"
        },
        "id": "pVutRBTF6nof",
        "outputId": "0f6c97d6-3bea-4299-ddaa-33261c1f3bc5"
      },
      "source": [
        "y_train.shape # displaying number of rows and columns of training label set"
      ],
      "execution_count": null,
      "outputs": [
        {
          "output_type": "execute_result",
          "data": {
            "text/plain": [
              "(1760,)"
            ]
          },
          "metadata": {
            "tags": []
          },
          "execution_count": 12
        }
      ]
    },
    {
      "cell_type": "code",
      "metadata": {
        "colab": {
          "base_uri": "https://localhost:8080/"
        },
        "id": "ctin5jto6yUK",
        "outputId": "1c660b60-9bc6-4156-9797-7df18eadb0c1"
      },
      "source": [
        "x_test.shape # displaying number of rows and columns of testing feature set"
      ],
      "execution_count": null,
      "outputs": [
        {
          "output_type": "execute_result",
          "data": {
            "text/plain": [
              "(440, 7)"
            ]
          },
          "metadata": {
            "tags": []
          },
          "execution_count": 13
        }
      ]
    },
    {
      "cell_type": "code",
      "metadata": {
        "colab": {
          "base_uri": "https://localhost:8080/"
        },
        "id": "iFLFoENO61Ij",
        "outputId": "c0107d87-e270-4cbb-fdfe-d13a83f896da"
      },
      "source": [
        "y_test.shape # displaying number of rows and columns of testing label set"
      ],
      "execution_count": null,
      "outputs": [
        {
          "output_type": "execute_result",
          "data": {
            "text/plain": [
              "(440,)"
            ]
          },
          "metadata": {
            "tags": []
          },
          "execution_count": 14
        }
      ]
    },
    {
      "cell_type": "code",
      "metadata": {
        "id": "d80HCe0d7sAJ",
        "colab": {
          "base_uri": "https://localhost:8080/"
        },
        "outputId": "c2de2022-8b9a-44c5-c659-2f85cd46567c"
      },
      "source": [
        "y_test.value_counts() # frequency of each class label"
      ],
      "execution_count": null,
      "outputs": [
        {
          "output_type": "execute_result",
          "data": {
            "text/plain": [
              "coconut        27\n",
              "chickpea       26\n",
              "mothbeans      24\n",
              "apple          23\n",
              "jute           23\n",
              "papaya         23\n",
              "pigeonpeas     23\n",
              "pomegranate    23\n",
              "banana         21\n",
              "maize          21\n",
              "blackgram      20\n",
              "kidneybeans    20\n",
              "mungbean       19\n",
              "rice           19\n",
              "mango          19\n",
              "watermelon     19\n",
              "coffee         17\n",
              "cotton         17\n",
              "muskmelon      17\n",
              "grapes         14\n",
              "orange         14\n",
              "lentil         11\n",
              "Name: label, dtype: int64"
            ]
          },
          "metadata": {
            "tags": []
          },
          "execution_count": 15
        }
      ]
    },
    {
      "cell_type": "markdown",
      "metadata": {
        "id": "Di3VK8CJ1bu0"
      },
      "source": [
        "# **K Nearest Neighbors Classifier**"
      ]
    },
    {
      "cell_type": "code",
      "metadata": {
        "id": "dwgGcCjW1bGa"
      },
      "source": [
        "#importing KNN classifier\n",
        "from sklearn.neighbors import KNeighborsClassifier"
      ],
      "execution_count": null,
      "outputs": []
    },
    {
      "cell_type": "code",
      "metadata": {
        "id": "W4ZDY_wE7FaI"
      },
      "source": [
        "knn = KNeighborsClassifier(n_jobs=-1,n_neighbors = 5)"
      ],
      "execution_count": null,
      "outputs": []
    },
    {
      "cell_type": "code",
      "metadata": {
        "colab": {
          "base_uri": "https://localhost:8080/"
        },
        "id": "IyEWKpVr7ewA",
        "outputId": "b1fee544-3cb8-48c3-aa1b-8bc4dc240fe9"
      },
      "source": [
        "knn.fit(x_train, y_train)"
      ],
      "execution_count": null,
      "outputs": [
        {
          "output_type": "execute_result",
          "data": {
            "text/plain": [
              "KNeighborsClassifier(algorithm='auto', leaf_size=30, metric='minkowski',\n",
              "                     metric_params=None, n_jobs=-1, n_neighbors=5, p=2,\n",
              "                     weights='uniform')"
            ]
          },
          "metadata": {
            "tags": []
          },
          "execution_count": 18
        }
      ]
    },
    {
      "cell_type": "code",
      "metadata": {
        "colab": {
          "base_uri": "https://localhost:8080/"
        },
        "id": "OLY5nnz59JNT",
        "outputId": "f75c2cbc-937f-4a76-c6d7-bb87030f7ed4"
      },
      "source": [
        "knn_train_accuracy = knn.score(x_train, y_train)*100\n",
        "knn_train_accuracy"
      ],
      "execution_count": null,
      "outputs": [
        {
          "output_type": "execute_result",
          "data": {
            "text/plain": [
              "98.97727272727272"
            ]
          },
          "metadata": {
            "tags": []
          },
          "execution_count": 19
        }
      ]
    },
    {
      "cell_type": "code",
      "metadata": {
        "id": "DCmbUgFQ7phI",
        "colab": {
          "base_uri": "https://localhost:8080/"
        },
        "outputId": "5180cedc-c94f-4267-d18b-0bbd84e8421d"
      },
      "source": [
        "y_predict_knn = knn.predict(x_test)\n",
        "y_predict_knn"
      ],
      "execution_count": null,
      "outputs": [
        {
          "output_type": "execute_result",
          "data": {
            "text/plain": [
              "array(['muskmelon', 'watermelon', 'papaya', 'papaya', 'apple', 'mango',\n",
              "       'apple', 'mothbeans', 'mungbean', 'lentil', 'blackgram', 'coconut',\n",
              "       'pomegranate', 'jute', 'coconut', 'pomegranate', 'apple', 'cotton',\n",
              "       'papaya', 'muskmelon', 'coffee', 'papaya', 'orange', 'papaya',\n",
              "       'chickpea', 'jute', 'mungbean', 'orange', 'pigeonpeas', 'jute',\n",
              "       'pomegranate', 'mothbeans', 'jute', 'lentil', 'jute', 'blackgram',\n",
              "       'jute', 'chickpea', 'chickpea', 'kidneybeans', 'papaya', 'mango',\n",
              "       'blackgram', 'maize', 'mungbean', 'maize', 'pigeonpeas', 'coconut',\n",
              "       'muskmelon', 'maize', 'blackgram', 'coffee', 'grapes', 'mungbean',\n",
              "       'coffee', 'kidneybeans', 'cotton', 'apple', 'banana', 'blackgram',\n",
              "       'watermelon', 'coconut', 'lentil', 'orange', 'papaya', 'blackgram',\n",
              "       'orange', 'rice', 'muskmelon', 'pigeonpeas', 'muskmelon',\n",
              "       'coconut', 'jute', 'banana', 'blackgram', 'papaya', 'banana',\n",
              "       'cotton', 'watermelon', 'orange', 'coffee', 'chickpea', 'jute',\n",
              "       'mothbeans', 'orange', 'mango', 'coffee', 'mothbeans', 'blackgram',\n",
              "       'pomegranate', 'maize', 'mothbeans', 'cotton', 'papaya',\n",
              "       'pigeonpeas', 'mothbeans', 'kidneybeans', 'coffee', 'blackgram',\n",
              "       'lentil', 'coconut', 'jute', 'orange', 'muskmelon', 'watermelon',\n",
              "       'kidneybeans', 'watermelon', 'banana', 'pigeonpeas', 'mothbeans',\n",
              "       'banana', 'jute', 'cotton', 'pomegranate', 'pigeonpeas',\n",
              "       'chickpea', 'maize', 'coconut', 'pomegranate', 'rice',\n",
              "       'pigeonpeas', 'grapes', 'blackgram', 'coconut', 'chickpea',\n",
              "       'blackgram', 'coconut', 'maize', 'banana', 'mothbeans', 'banana',\n",
              "       'kidneybeans', 'pomegranate', 'chickpea', 'coconut', 'orange',\n",
              "       'pigeonpeas', 'banana', 'banana', 'apple', 'kidneybeans',\n",
              "       'muskmelon', 'mungbean', 'mothbeans', 'coconut', 'maize', 'apple',\n",
              "       'coconut', 'kidneybeans', 'mothbeans', 'mungbean', 'lentil',\n",
              "       'watermelon', 'mungbean', 'pigeonpeas', 'pigeonpeas', 'pigeonpeas',\n",
              "       'kidneybeans', 'maize', 'jute', 'chickpea', 'apple', 'orange',\n",
              "       'cotton', 'rice', 'coconut', 'grapes', 'lentil', 'watermelon',\n",
              "       'grapes', 'grapes', 'blackgram', 'pomegranate', 'chickpea',\n",
              "       'coconut', 'maize', 'lentil', 'grapes', 'watermelon', 'jute',\n",
              "       'coffee', 'coffee', 'kidneybeans', 'jute', 'mothbeans',\n",
              "       'kidneybeans', 'banana', 'kidneybeans', 'coconut', 'papaya',\n",
              "       'papaya', 'mungbean', 'mango', 'pomegranate', 'watermelon',\n",
              "       'kidneybeans', 'maize', 'apple', 'blackgram', 'chickpea', 'grapes',\n",
              "       'grapes', 'banana', 'cotton', 'rice', 'pomegranate', 'mungbean',\n",
              "       'banana', 'jute', 'mungbean', 'maize', 'chickpea', 'chickpea',\n",
              "       'chickpea', 'apple', 'rice', 'kidneybeans', 'papaya', 'coffee',\n",
              "       'blackgram', 'kidneybeans', 'mango', 'mango', 'coconut', 'papaya',\n",
              "       'apple', 'chickpea', 'pomegranate', 'chickpea', 'muskmelon',\n",
              "       'apple', 'muskmelon', 'muskmelon', 'mango', 'mango', 'cotton',\n",
              "       'coconut', 'pomegranate', 'rice', 'muskmelon', 'coffee', 'papaya',\n",
              "       'lentil', 'maize', 'mango', 'muskmelon', 'pigeonpeas', 'mungbean',\n",
              "       'coffee', 'grapes', 'coconut', 'cotton', 'pigeonpeas', 'rice',\n",
              "       'apple', 'pomegranate', 'coffee', 'chickpea', 'cotton', 'jute',\n",
              "       'mango', 'banana', 'papaya', 'apple', 'chickpea', 'jute',\n",
              "       'pigeonpeas', 'mothbeans', 'mungbean', 'jute', 'pomegranate',\n",
              "       'grapes', 'mothbeans', 'jute', 'maize', 'coconut', 'maize',\n",
              "       'chickpea', 'banana', 'jute', 'coconut', 'jute', 'mango',\n",
              "       'muskmelon', 'apple', 'banana', 'pigeonpeas', 'blackgram',\n",
              "       'orange', 'chickpea', 'watermelon', 'banana', 'apple', 'chickpea',\n",
              "       'coffee', 'pigeonpeas', 'orange', 'apple', 'coconut', 'papaya',\n",
              "       'watermelon', 'mothbeans', 'papaya', 'chickpea', 'pomegranate',\n",
              "       'chickpea', 'papaya', 'lentil', 'apple', 'pomegranate', 'chickpea',\n",
              "       'mango', 'chickpea', 'pomegranate', 'watermelon', 'kidneybeans',\n",
              "       'mungbean', 'muskmelon', 'watermelon', 'kidneybeans', 'muskmelon',\n",
              "       'mango', 'jute', 'blackgram', 'chickpea', 'banana', 'blackgram',\n",
              "       'pigeonpeas', 'papaya', 'kidneybeans', 'mungbean', 'coconut',\n",
              "       'cotton', 'grapes', 'apple', 'lentil', 'banana', 'jute', 'apple',\n",
              "       'pomegranate', 'apple', 'mungbean', 'muskmelon', 'coffee', 'jute',\n",
              "       'pigeonpeas', 'jute', 'kidneybeans', 'banana', 'maize', 'jute',\n",
              "       'maize', 'pigeonpeas', 'mango', 'kidneybeans', 'pomegranate',\n",
              "       'watermelon', 'blackgram', 'maize', 'rice', 'mothbeans',\n",
              "       'kidneybeans', 'mango', 'cotton', 'papaya', 'mothbeans', 'cotton',\n",
              "       'mungbean', 'orange', 'rice', 'blackgram', 'mungbean', 'coffee',\n",
              "       'banana', 'pigeonpeas', 'papaya', 'apple', 'pomegranate', 'maize',\n",
              "       'mango', 'coconut', 'apple', 'lentil', 'jute', 'mothbeans',\n",
              "       'lentil', 'coconut', 'blackgram', 'jute', 'mungbean', 'cotton',\n",
              "       'watermelon', 'apple', 'grapes', 'coconut', 'grapes', 'watermelon',\n",
              "       'rice', 'mango', 'mango', 'coffee', 'pomegranate', 'banana',\n",
              "       'grapes', 'jute', 'orange', 'cotton', 'mango', 'papaya',\n",
              "       'muskmelon', 'mothbeans', 'jute', 'chickpea', 'mothbeans',\n",
              "       'pomegranate', 'watermelon', 'mothbeans', 'cotton', 'papaya',\n",
              "       'watermelon', 'lentil', 'rice', 'coconut', 'mothbeans',\n",
              "       'mothbeans', 'maize', 'rice', 'maize', 'coconut', 'orange',\n",
              "       'pomegranate', 'kidneybeans', 'watermelon', 'mungbean',\n",
              "       'blackgram', 'rice', 'rice', 'cotton', 'cotton', 'pigeonpeas'],\n",
              "      dtype=object)"
            ]
          },
          "metadata": {
            "tags": []
          },
          "execution_count": 20
        }
      ]
    },
    {
      "cell_type": "code",
      "metadata": {
        "id": "U2xLZrmt-Atb"
      },
      "source": [
        "#importing confusion matrix and classification report\n",
        "from sklearn.metrics import confusion_matrix, classification_report,accuracy_score"
      ],
      "execution_count": null,
      "outputs": []
    },
    {
      "cell_type": "code",
      "metadata": {
        "colab": {
          "base_uri": "https://localhost:8080/"
        },
        "id": "HUxYiqp8-CHn",
        "outputId": "30af7a8e-8a97-439d-f01a-6182648942df"
      },
      "source": [
        "print(confusion_matrix(y_test, y_predict_knn))"
      ],
      "execution_count": null,
      "outputs": [
        {
          "output_type": "stream",
          "text": [
            "[[23  0  0  0  0  0  0  0  0  0  0  0  0  0  0  0  0  0  0  0  0  0]\n",
            " [ 0 21  0  0  0  0  0  0  0  0  0  0  0  0  0  0  0  0  0  0  0  0]\n",
            " [ 0  0 20  0  0  0  0  0  0  0  0  0  0  0  0  0  0  0  0  0  0  0]\n",
            " [ 0  0  0 26  0  0  0  0  0  0  0  0  0  0  0  0  0  0  0  0  0  0]\n",
            " [ 0  0  0  0 27  0  0  0  0  0  0  0  0  0  0  0  0  0  0  0  0  0]\n",
            " [ 0  0  0  0  0 16  0  0  1  0  0  0  0  0  0  0  0  0  0  0  0  0]\n",
            " [ 0  0  0  0  0  0 17  0  0  0  0  0  0  0  0  0  0  0  0  0  0  0]\n",
            " [ 0  0  0  0  0  0  0 14  0  0  0  0  0  0  0  0  0  0  0  0  0  0]\n",
            " [ 0  0  0  0  0  0  0  0 22  0  0  0  0  0  0  0  0  0  0  0  1  0]\n",
            " [ 0  0  0  0  0  0  0  0  0 20  0  0  0  0  0  0  0  0  0  0  0  0]\n",
            " [ 0  0  0  0  0  0  0  0  0  0 11  0  0  0  0  0  0  0  0  0  0  0]\n",
            " [ 0  0  0  0  0  0  1  0  0  0  0 20  0  0  0  0  0  0  0  0  0  0]\n",
            " [ 0  0  0  0  0  0  0  0  0  0  0  0 19  0  0  0  0  0  0  0  0  0]\n",
            " [ 0  0  0  0  0  0  0  0  0  0  2  0  0 22  0  0  0  0  0  0  0  0]\n",
            " [ 0  0  0  0  0  0  0  0  0  0  0  0  0  0 19  0  0  0  0  0  0  0]\n",
            " [ 0  0  0  0  0  0  0  0  0  0  0  0  0  0  0 17  0  0  0  0  0  0]\n",
            " [ 0  0  0  0  0  0  0  0  0  0  0  0  0  0  0  0 14  0  0  0  0  0]\n",
            " [ 0  0  0  0  0  0  0  0  0  0  0  0  0  0  0  0  0 23  0  0  0  0]\n",
            " [ 0  0  1  0  0  0  0  0  0  1  0  0  0  0  0  0  0  0 21  0  0  0]\n",
            " [ 0  0  0  0  0  0  0  0  0  0  0  0  0  0  0  0  0  0  0 23  0  0]\n",
            " [ 0  0  0  0  0  0  0  0  6  0  0  0  0  0  0  0  0  0  0  0 13  0]\n",
            " [ 0  0  0  0  0  0  0  0  0  0  0  0  0  0  0  0  0  0  0  0  0 19]]\n"
          ],
          "name": "stdout"
        }
      ]
    },
    {
      "cell_type": "code",
      "metadata": {
        "colab": {
          "base_uri": "https://localhost:8080/"
        },
        "id": "t76kSTdA-Z4I",
        "outputId": "7b736805-65c0-4010-a326-2456bd1091fa"
      },
      "source": [
        "print(classification_report(y_test,y_predict_knn))"
      ],
      "execution_count": null,
      "outputs": [
        {
          "output_type": "stream",
          "text": [
            "              precision    recall  f1-score   support\n",
            "\n",
            "       apple       1.00      1.00      1.00        23\n",
            "      banana       1.00      1.00      1.00        21\n",
            "   blackgram       0.95      1.00      0.98        20\n",
            "    chickpea       1.00      1.00      1.00        26\n",
            "     coconut       1.00      1.00      1.00        27\n",
            "      coffee       1.00      0.94      0.97        17\n",
            "      cotton       0.94      1.00      0.97        17\n",
            "      grapes       1.00      1.00      1.00        14\n",
            "        jute       0.76      0.96      0.85        23\n",
            " kidneybeans       0.95      1.00      0.98        20\n",
            "      lentil       0.85      1.00      0.92        11\n",
            "       maize       1.00      0.95      0.98        21\n",
            "       mango       1.00      1.00      1.00        19\n",
            "   mothbeans       1.00      0.92      0.96        24\n",
            "    mungbean       1.00      1.00      1.00        19\n",
            "   muskmelon       1.00      1.00      1.00        17\n",
            "      orange       1.00      1.00      1.00        14\n",
            "      papaya       1.00      1.00      1.00        23\n",
            "  pigeonpeas       1.00      0.91      0.95        23\n",
            " pomegranate       1.00      1.00      1.00        23\n",
            "        rice       0.93      0.68      0.79        19\n",
            "  watermelon       1.00      1.00      1.00        19\n",
            "\n",
            "    accuracy                           0.97       440\n",
            "   macro avg       0.97      0.97      0.97       440\n",
            "weighted avg       0.97      0.97      0.97       440\n",
            "\n"
          ],
          "name": "stdout"
        }
      ]
    },
    {
      "cell_type": "code",
      "metadata": {
        "colab": {
          "base_uri": "https://localhost:8080/",
          "height": 794
        },
        "id": "XmpStn0MK6aw",
        "outputId": "95d39991-3b18-453e-9c25-9ffc0aeef2a4"
      },
      "source": [
        "scatter_plot('K-Nearest Neighbors Classifier',y_predict_knn)"
      ],
      "execution_count": null,
      "outputs": [
        {
          "output_type": "display_data",
          "data": {
            "image/png": "[encoded data removed]",
            "text/plain": [
              "<Figure size 864x864 with 1 Axes>"
            ]
          },
          "metadata": {
            "tags": [],
            "needs_background": "light"
          }
        }
      ]
    },
    {
      "cell_type": "markdown",
      "metadata": {
        "id": "TxLS7Qd4k1Z9"
      },
      "source": [
        "**Accuracy_score** -> accuracy of t he model is calculated based on the\n",
        "\n",
        "number of matches/ total number of samples"
      ]
    },
    {
      "cell_type": "code",
      "metadata": {
        "colab": {
          "base_uri": "https://localhost:8080/"
        },
        "id": "cQ1G44E4Y6gG",
        "outputId": "7df43be8-3529-450d-9e25-c8311e6cf15d"
      },
      "source": [
        "knn_test_accuracy = accuracy_score(y_test,y_predict_knn)*100\n",
        "knn_test_accuracy"
      ],
      "execution_count": null,
      "outputs": [
        {
          "output_type": "execute_result",
          "data": {
            "text/plain": [
              "97.04545454545455"
            ]
          },
          "metadata": {
            "tags": []
          },
          "execution_count": 25
        }
      ]
    },
    {
      "cell_type": "markdown",
      "metadata": {
        "id": "jlPGrTUv7lLc"
      },
      "source": [
        "# **Decision Tree Classifier**\n",
        "\n"
      ]
    },
    {
      "cell_type": "markdown",
      "metadata": {
        "id": "XRaKyXaymGdR"
      },
      "source": [
        "# *GINI*\n",
        "\n"
      ]
    },
    {
      "cell_type": "code",
      "metadata": {
        "id": "1FYFr9s8GmDj"
      },
      "source": [
        "#importing Decision Tree Classifier\n",
        "from sklearn.tree import DecisionTreeClassifier"
      ],
      "execution_count": null,
      "outputs": []
    },
    {
      "cell_type": "code",
      "metadata": {
        "id": "M35gsJik72d2"
      },
      "source": [
        "#Using gini index\n",
        "clf_gini = DecisionTreeClassifier(criterion = \"gini\",random_state=100)"
      ],
      "execution_count": null,
      "outputs": []
    },
    {
      "cell_type": "code",
      "metadata": {
        "colab": {
          "base_uri": "https://localhost:8080/"
        },
        "id": "T68aE5aESx8Q",
        "outputId": "df910477-9642-4d59-890b-cf32b56b19de"
      },
      "source": [
        "clf_gini.fit(x_train,y_train)"
      ],
      "execution_count": null,
      "outputs": [
        {
          "output_type": "execute_result",
          "data": {
            "text/plain": [
              "DecisionTreeClassifier(ccp_alpha=0.0, class_weight=None, criterion='gini',\n",
              "                       max_depth=None, max_features=None, max_leaf_nodes=None,\n",
              "                       min_impurity_decrease=0.0, min_impurity_split=None,\n",
              "                       min_samples_leaf=1, min_samples_split=2,\n",
              "                       min_weight_fraction_leaf=0.0, presort='deprecated',\n",
              "                       random_state=100, splitter='best')"
            ]
          },
          "metadata": {
            "tags": []
          },
          "execution_count": 28
        }
      ]
    },
    {
      "cell_type": "code",
      "metadata": {
        "colab": {
          "base_uri": "https://localhost:8080/"
        },
        "id": "Qyf21gT1S7BO",
        "outputId": "7160c8a1-0c6a-4665-9aa1-d5f415246010"
      },
      "source": [
        "dt_gini_train_score = clf_gini.score(x_train,y_train)*100\n",
        "dt_gini_train_score"
      ],
      "execution_count": null,
      "outputs": [
        {
          "output_type": "execute_result",
          "data": {
            "text/plain": [
              "100.0"
            ]
          },
          "metadata": {
            "tags": []
          },
          "execution_count": 29
        }
      ]
    },
    {
      "cell_type": "code",
      "metadata": {
        "colab": {
          "base_uri": "https://localhost:8080/"
        },
        "id": "ShtPYoWJTEj2",
        "outputId": "4ed38697-b7b1-4b94-c491-d121c3277028"
      },
      "source": [
        "clf_predict = clf_gini.predict(x_test)\n",
        "clf_predict"
      ],
      "execution_count": null,
      "outputs": [
        {
          "output_type": "execute_result",
          "data": {
            "text/plain": [
              "array(['muskmelon', 'watermelon', 'papaya', 'papaya', 'apple', 'mango',\n",
              "       'apple', 'mothbeans', 'mungbean', 'lentil', 'blackgram', 'coconut',\n",
              "       'pomegranate', 'jute', 'coconut', 'pomegranate', 'apple', 'maize',\n",
              "       'papaya', 'muskmelon', 'coffee', 'papaya', 'orange', 'papaya',\n",
              "       'chickpea', 'jute', 'mungbean', 'orange', 'pigeonpeas', 'rice',\n",
              "       'pomegranate', 'mothbeans', 'jute', 'lentil', 'jute', 'blackgram',\n",
              "       'jute', 'chickpea', 'chickpea', 'kidneybeans', 'papaya', 'mango',\n",
              "       'blackgram', 'maize', 'mungbean', 'maize', 'pigeonpeas', 'coconut',\n",
              "       'muskmelon', 'maize', 'blackgram', 'coffee', 'grapes', 'mungbean',\n",
              "       'coffee', 'kidneybeans', 'cotton', 'apple', 'banana', 'blackgram',\n",
              "       'watermelon', 'coconut', 'lentil', 'orange', 'papaya',\n",
              "       'pigeonpeas', 'orange', 'rice', 'muskmelon', 'pigeonpeas',\n",
              "       'muskmelon', 'coconut', 'jute', 'banana', 'blackgram', 'papaya',\n",
              "       'banana', 'cotton', 'watermelon', 'orange', 'coffee', 'chickpea',\n",
              "       'rice', 'mothbeans', 'orange', 'mango', 'coffee', 'mothbeans',\n",
              "       'blackgram', 'pomegranate', 'maize', 'mothbeans', 'cotton',\n",
              "       'papaya', 'pigeonpeas', 'mothbeans', 'kidneybeans', 'coffee',\n",
              "       'blackgram', 'lentil', 'coconut', 'rice', 'orange', 'muskmelon',\n",
              "       'watermelon', 'kidneybeans', 'watermelon', 'banana', 'pigeonpeas',\n",
              "       'mothbeans', 'banana', 'jute', 'cotton', 'pomegranate',\n",
              "       'pigeonpeas', 'chickpea', 'maize', 'coconut', 'pomegranate',\n",
              "       'rice', 'pigeonpeas', 'grapes', 'blackgram', 'coconut', 'chickpea',\n",
              "       'blackgram', 'coconut', 'maize', 'banana', 'mothbeans', 'banana',\n",
              "       'kidneybeans', 'pomegranate', 'chickpea', 'coconut', 'orange',\n",
              "       'pigeonpeas', 'banana', 'banana', 'apple', 'kidneybeans',\n",
              "       'muskmelon', 'mungbean', 'mothbeans', 'coconut', 'maize', 'apple',\n",
              "       'coconut', 'kidneybeans', 'blackgram', 'mungbean', 'lentil',\n",
              "       'watermelon', 'mungbean', 'pigeonpeas', 'pigeonpeas', 'pigeonpeas',\n",
              "       'kidneybeans', 'maize', 'jute', 'chickpea', 'apple', 'orange',\n",
              "       'cotton', 'rice', 'coconut', 'grapes', 'lentil', 'watermelon',\n",
              "       'grapes', 'grapes', 'blackgram', 'pomegranate', 'chickpea',\n",
              "       'coconut', 'maize', 'lentil', 'grapes', 'watermelon', 'jute',\n",
              "       'coffee', 'coffee', 'kidneybeans', 'jute', 'mothbeans',\n",
              "       'kidneybeans', 'banana', 'kidneybeans', 'coconut', 'papaya',\n",
              "       'papaya', 'mungbean', 'mango', 'pomegranate', 'watermelon',\n",
              "       'kidneybeans', 'maize', 'apple', 'blackgram', 'chickpea', 'grapes',\n",
              "       'grapes', 'banana', 'cotton', 'rice', 'pomegranate', 'mungbean',\n",
              "       'banana', 'jute', 'mungbean', 'maize', 'chickpea', 'chickpea',\n",
              "       'chickpea', 'apple', 'rice', 'kidneybeans', 'papaya', 'coffee',\n",
              "       'blackgram', 'kidneybeans', 'mango', 'mango', 'coconut', 'papaya',\n",
              "       'apple', 'chickpea', 'pomegranate', 'chickpea', 'muskmelon',\n",
              "       'apple', 'muskmelon', 'muskmelon', 'mango', 'mango', 'cotton',\n",
              "       'coconut', 'pomegranate', 'rice', 'muskmelon', 'coffee', 'papaya',\n",
              "       'mothbeans', 'maize', 'mango', 'muskmelon', 'pigeonpeas',\n",
              "       'mungbean', 'coffee', 'grapes', 'coconut', 'cotton', 'pigeonpeas',\n",
              "       'rice', 'apple', 'pomegranate', 'coffee', 'chickpea', 'cotton',\n",
              "       'jute', 'mango', 'banana', 'papaya', 'apple', 'chickpea', 'rice',\n",
              "       'pigeonpeas', 'mothbeans', 'mungbean', 'jute', 'pomegranate',\n",
              "       'grapes', 'mothbeans', 'jute', 'maize', 'coconut', 'maize',\n",
              "       'chickpea', 'banana', 'jute', 'coconut', 'jute', 'mango',\n",
              "       'muskmelon', 'apple', 'banana', 'pigeonpeas', 'blackgram',\n",
              "       'orange', 'chickpea', 'watermelon', 'banana', 'apple', 'chickpea',\n",
              "       'coffee', 'pigeonpeas', 'orange', 'apple', 'coconut', 'papaya',\n",
              "       'watermelon', 'mothbeans', 'papaya', 'chickpea', 'pomegranate',\n",
              "       'chickpea', 'papaya', 'lentil', 'apple', 'pomegranate', 'chickpea',\n",
              "       'mango', 'chickpea', 'pomegranate', 'watermelon', 'kidneybeans',\n",
              "       'mungbean', 'muskmelon', 'watermelon', 'kidneybeans', 'muskmelon',\n",
              "       'mango', 'jute', 'blackgram', 'chickpea', 'banana', 'blackgram',\n",
              "       'pigeonpeas', 'papaya', 'pigeonpeas', 'mungbean', 'coconut',\n",
              "       'cotton', 'grapes', 'apple', 'lentil', 'banana', 'jute', 'apple',\n",
              "       'pomegranate', 'apple', 'mungbean', 'muskmelon', 'coffee',\n",
              "       'coffee', 'pigeonpeas', 'jute', 'kidneybeans', 'banana', 'maize',\n",
              "       'jute', 'maize', 'pigeonpeas', 'mango', 'kidneybeans',\n",
              "       'pomegranate', 'watermelon', 'blackgram', 'maize', 'rice',\n",
              "       'mothbeans', 'kidneybeans', 'mango', 'cotton', 'papaya',\n",
              "       'mothbeans', 'cotton', 'mungbean', 'orange', 'rice', 'blackgram',\n",
              "       'mungbean', 'coffee', 'banana', 'pigeonpeas', 'papaya', 'apple',\n",
              "       'pomegranate', 'maize', 'mango', 'coconut', 'apple', 'lentil',\n",
              "       'jute', 'mothbeans', 'lentil', 'coconut', 'blackgram', 'jute',\n",
              "       'mungbean', 'cotton', 'watermelon', 'apple', 'grapes', 'coconut',\n",
              "       'grapes', 'watermelon', 'rice', 'mango', 'mango', 'coffee',\n",
              "       'pomegranate', 'banana', 'grapes', 'jute', 'orange', 'cotton',\n",
              "       'mango', 'papaya', 'muskmelon', 'mothbeans', 'jute', 'chickpea',\n",
              "       'mothbeans', 'pomegranate', 'watermelon', 'mothbeans', 'cotton',\n",
              "       'papaya', 'watermelon', 'lentil', 'rice', 'coconut', 'mothbeans',\n",
              "       'mothbeans', 'maize', 'rice', 'maize', 'coconut', 'orange',\n",
              "       'pomegranate', 'kidneybeans', 'watermelon', 'mungbean',\n",
              "       'blackgram', 'rice', 'rice', 'cotton', 'cotton', 'pigeonpeas'],\n",
              "      dtype=object)"
            ]
          },
          "metadata": {
            "tags": []
          },
          "execution_count": 30
        }
      ]
    },
    {
      "cell_type": "code",
      "metadata": {
        "colab": {
          "base_uri": "https://localhost:8080/"
        },
        "id": "5rpMCCxET9UF",
        "outputId": "15ead015-81dd-4645-eba5-a0a9fe5dee00"
      },
      "source": [
        "print(confusion_matrix(y_test,clf_predict))"
      ],
      "execution_count": null,
      "outputs": [
        {
          "output_type": "stream",
          "text": [
            "[[23  0  0  0  0  0  0  0  0  0  0  0  0  0  0  0  0  0  0  0  0  0]\n",
            " [ 0 21  0  0  0  0  0  0  0  0  0  0  0  0  0  0  0  0  0  0  0  0]\n",
            " [ 0  0 20  0  0  0  0  0  0  0  0  0  0  0  0  0  0  0  0  0  0  0]\n",
            " [ 0  0  0 26  0  0  0  0  0  0  0  0  0  0  0  0  0  0  0  0  0  0]\n",
            " [ 0  0  0  0 27  0  0  0  0  0  0  0  0  0  0  0  0  0  0  0  0  0]\n",
            " [ 0  0  0  0  0 17  0  0  0  0  0  0  0  0  0  0  0  0  0  0  0  0]\n",
            " [ 0  0  0  0  0  0 17  0  0  0  0  0  0  0  0  0  0  0  0  0  0  0]\n",
            " [ 0  0  0  0  0  0  0 14  0  0  0  0  0  0  0  0  0  0  0  0  0  0]\n",
            " [ 0  0  0  0  0  0  0  0 22  0  0  0  0  0  0  0  0  0  0  0  1  0]\n",
            " [ 0  0  0  0  0  0  0  0  0 20  0  0  0  0  0  0  0  0  0  0  0  0]\n",
            " [ 0  0  0  0  0  0  0  0  0  0 11  0  0  0  0  0  0  0  0  0  0  0]\n",
            " [ 0  0  0  0  0  0  0  0  0  0  0 21  0  0  0  0  0  0  0  0  0  0]\n",
            " [ 0  0  0  0  0  0  0  0  0  0  0  0 19  0  0  0  0  0  0  0  0  0]\n",
            " [ 0  0  1  0  0  0  0  0  0  0  1  0  0 22  0  0  0  0  0  0  0  0]\n",
            " [ 0  0  0  0  0  0  0  0  0  0  0  0  0  0 19  0  0  0  0  0  0  0]\n",
            " [ 0  0  0  0  0  0  0  0  0  0  0  0  0  0  0 17  0  0  0  0  0  0]\n",
            " [ 0  0  0  0  0  0  0  0  0  0  0  0  0  0  0  0 14  0  0  0  0  0]\n",
            " [ 0  0  0  0  0  0  0  0  0  0  0  0  0  0  0  0  0 23  0  0  0  0]\n",
            " [ 0  0  0  0  0  0  0  0  0  0  0  0  0  0  0  0  0  0 23  0  0  0]\n",
            " [ 0  0  0  0  0  0  0  0  0  0  0  0  0  0  0  0  0  0  0 23  0  0]\n",
            " [ 0  0  0  0  0  0  0  0  2  0  0  0  0  0  0  0  0  0  0  0 17  0]\n",
            " [ 0  0  0  0  0  0  0  0  0  0  0  0  0  0  0  0  0  0  0  0  0 19]]\n"
          ],
          "name": "stdout"
        }
      ]
    },
    {
      "cell_type": "code",
      "metadata": {
        "colab": {
          "base_uri": "https://localhost:8080/"
        },
        "id": "3TIbWbJ7XwcE",
        "outputId": "3f60753f-b13a-4826-f662-86d73a374e77"
      },
      "source": [
        "print(classification_report(y_test,clf_predict))"
      ],
      "execution_count": null,
      "outputs": [
        {
          "output_type": "stream",
          "text": [
            "              precision    recall  f1-score   support\n",
            "\n",
            "       apple       1.00      1.00      1.00        23\n",
            "      banana       1.00      1.00      1.00        21\n",
            "   blackgram       0.95      1.00      0.98        20\n",
            "    chickpea       1.00      1.00      1.00        26\n",
            "     coconut       1.00      1.00      1.00        27\n",
            "      coffee       1.00      1.00      1.00        17\n",
            "      cotton       1.00      1.00      1.00        17\n",
            "      grapes       1.00      1.00      1.00        14\n",
            "        jute       0.92      0.96      0.94        23\n",
            " kidneybeans       1.00      1.00      1.00        20\n",
            "      lentil       0.92      1.00      0.96        11\n",
            "       maize       1.00      1.00      1.00        21\n",
            "       mango       1.00      1.00      1.00        19\n",
            "   mothbeans       1.00      0.92      0.96        24\n",
            "    mungbean       1.00      1.00      1.00        19\n",
            "   muskmelon       1.00      1.00      1.00        17\n",
            "      orange       1.00      1.00      1.00        14\n",
            "      papaya       1.00      1.00      1.00        23\n",
            "  pigeonpeas       1.00      1.00      1.00        23\n",
            " pomegranate       1.00      1.00      1.00        23\n",
            "        rice       0.94      0.89      0.92        19\n",
            "  watermelon       1.00      1.00      1.00        19\n",
            "\n",
            "    accuracy                           0.99       440\n",
            "   macro avg       0.99      0.99      0.99       440\n",
            "weighted avg       0.99      0.99      0.99       440\n",
            "\n"
          ],
          "name": "stdout"
        }
      ]
    },
    {
      "cell_type": "code",
      "metadata": {
        "colab": {
          "base_uri": "https://localhost:8080/",
          "height": 794
        },
        "id": "p34aKwOGU3Pd",
        "outputId": "e5e39e18-c2a3-4efc-a801-0ed404eea469"
      },
      "source": [
        "scatter_plot('Decision Tree Classifier Gini Criterion',clf_predict)"
      ],
      "execution_count": null,
      "outputs": [
        {
          "output_type": "display_data",
          "data": {
            "image/png": "[encoded data removed]",
            "text/plain": [
              "<Figure size 864x864 with 1 Axes>"
            ]
          },
          "metadata": {
            "tags": [],
            "needs_background": "light"
          }
        }
      ]
    },
    {
      "cell_type": "code",
      "metadata": {
        "colab": {
          "base_uri": "https://localhost:8080/"
        },
        "id": "-4N3_MgrX7Zu",
        "outputId": "a190029d-2545-44b2-c592-44174ea787f6"
      },
      "source": [
        "dt_gini_score = accuracy_score(y_test,clf_predict)*100\n",
        "dt_gini_score"
      ],
      "execution_count": null,
      "outputs": [
        {
          "output_type": "execute_result",
          "data": {
            "text/plain": [
              "98.86363636363636"
            ]
          },
          "metadata": {
            "tags": []
          },
          "execution_count": 34
        }
      ]
    },
    {
      "cell_type": "markdown",
      "metadata": {
        "id": "8qPeK407Vu2D"
      },
      "source": [
        "# *ENTROPY*"
      ]
    },
    {
      "cell_type": "code",
      "metadata": {
        "id": "Q2JvOCiTVuDW"
      },
      "source": [
        "#Using Entropy\n",
        "entropy_dtc_model = DecisionTreeClassifier(criterion='entropy',random_state=100)"
      ],
      "execution_count": null,
      "outputs": []
    },
    {
      "cell_type": "code",
      "metadata": {
        "colab": {
          "base_uri": "https://localhost:8080/"
        },
        "id": "chXXravEWhb7",
        "outputId": "f7dc2b38-1ddc-4a02-ef59-3955c527e1ac"
      },
      "source": [
        "entropy_dtc_model.fit(x_train,y_train)"
      ],
      "execution_count": null,
      "outputs": [
        {
          "output_type": "execute_result",
          "data": {
            "text/plain": [
              "DecisionTreeClassifier(ccp_alpha=0.0, class_weight=None, criterion='entropy',\n",
              "                       max_depth=None, max_features=None, max_leaf_nodes=None,\n",
              "                       min_impurity_decrease=0.0, min_impurity_split=None,\n",
              "                       min_samples_leaf=1, min_samples_split=2,\n",
              "                       min_weight_fraction_leaf=0.0, presort='deprecated',\n",
              "                       random_state=100, splitter='best')"
            ]
          },
          "metadata": {
            "tags": []
          },
          "execution_count": 36
        }
      ]
    },
    {
      "cell_type": "code",
      "metadata": {
        "colab": {
          "base_uri": "https://localhost:8080/"
        },
        "id": "bOyuIOn_W-yr",
        "outputId": "5b92d80c-b641-4cba-e884-9504791013cf"
      },
      "source": [
        "dt_entropy_train_score = entropy_dtc_model.score(x_train,y_train)*100\n",
        "dt_entropy_train_score"
      ],
      "execution_count": null,
      "outputs": [
        {
          "output_type": "execute_result",
          "data": {
            "text/plain": [
              "100.0"
            ]
          },
          "metadata": {
            "tags": []
          },
          "execution_count": 37
        }
      ]
    },
    {
      "cell_type": "code",
      "metadata": {
        "colab": {
          "base_uri": "https://localhost:8080/"
        },
        "id": "NsqxN3E3XOh6",
        "outputId": "8023f4a5-78fc-47d7-fc68-3c7e344a2a23"
      },
      "source": [
        "y_entropy_predict = entropy_dtc_model.predict(x_test)\n",
        "y_entropy_predict"
      ],
      "execution_count": null,
      "outputs": [
        {
          "output_type": "execute_result",
          "data": {
            "text/plain": [
              "array(['muskmelon', 'watermelon', 'papaya', 'papaya', 'apple', 'mango',\n",
              "       'apple', 'mothbeans', 'mungbean', 'lentil', 'blackgram', 'coconut',\n",
              "       'pomegranate', 'jute', 'coconut', 'pomegranate', 'apple', 'maize',\n",
              "       'papaya', 'muskmelon', 'coffee', 'papaya', 'orange', 'papaya',\n",
              "       'chickpea', 'jute', 'mungbean', 'orange', 'pigeonpeas', 'rice',\n",
              "       'pomegranate', 'mothbeans', 'jute', 'lentil', 'jute', 'blackgram',\n",
              "       'jute', 'chickpea', 'chickpea', 'mothbeans', 'papaya', 'mango',\n",
              "       'blackgram', 'maize', 'mungbean', 'maize', 'pigeonpeas', 'coconut',\n",
              "       'muskmelon', 'maize', 'blackgram', 'coffee', 'grapes', 'mungbean',\n",
              "       'coffee', 'kidneybeans', 'cotton', 'apple', 'banana', 'blackgram',\n",
              "       'watermelon', 'coconut', 'lentil', 'orange', 'papaya',\n",
              "       'pigeonpeas', 'orange', 'rice', 'muskmelon', 'pigeonpeas',\n",
              "       'muskmelon', 'coconut', 'jute', 'banana', 'blackgram', 'papaya',\n",
              "       'banana', 'cotton', 'watermelon', 'orange', 'coffee', 'chickpea',\n",
              "       'rice', 'mothbeans', 'orange', 'mango', 'coffee', 'mothbeans',\n",
              "       'blackgram', 'pomegranate', 'maize', 'mothbeans', 'cotton',\n",
              "       'papaya', 'pigeonpeas', 'mothbeans', 'kidneybeans', 'coffee',\n",
              "       'blackgram', 'lentil', 'coconut', 'rice', 'orange', 'muskmelon',\n",
              "       'watermelon', 'kidneybeans', 'watermelon', 'banana', 'pigeonpeas',\n",
              "       'mothbeans', 'banana', 'jute', 'cotton', 'pomegranate',\n",
              "       'pigeonpeas', 'chickpea', 'maize', 'coconut', 'pomegranate',\n",
              "       'jute', 'pigeonpeas', 'grapes', 'blackgram', 'coconut', 'chickpea',\n",
              "       'blackgram', 'coconut', 'maize', 'banana', 'mothbeans', 'banana',\n",
              "       'kidneybeans', 'pomegranate', 'chickpea', 'coconut', 'orange',\n",
              "       'pigeonpeas', 'banana', 'banana', 'apple', 'kidneybeans',\n",
              "       'muskmelon', 'mungbean', 'mothbeans', 'coconut', 'maize', 'apple',\n",
              "       'coconut', 'kidneybeans', 'mothbeans', 'mungbean', 'lentil',\n",
              "       'watermelon', 'mungbean', 'pigeonpeas', 'pigeonpeas', 'pigeonpeas',\n",
              "       'kidneybeans', 'maize', 'jute', 'chickpea', 'apple', 'orange',\n",
              "       'cotton', 'rice', 'coconut', 'grapes', 'lentil', 'watermelon',\n",
              "       'grapes', 'grapes', 'blackgram', 'pomegranate', 'chickpea',\n",
              "       'coconut', 'maize', 'lentil', 'grapes', 'watermelon', 'jute',\n",
              "       'coffee', 'coffee', 'kidneybeans', 'jute', 'mothbeans',\n",
              "       'kidneybeans', 'banana', 'kidneybeans', 'coconut', 'papaya',\n",
              "       'papaya', 'mungbean', 'mango', 'pomegranate', 'watermelon',\n",
              "       'kidneybeans', 'maize', 'apple', 'blackgram', 'chickpea', 'grapes',\n",
              "       'grapes', 'banana', 'cotton', 'rice', 'pomegranate', 'mungbean',\n",
              "       'banana', 'jute', 'mungbean', 'maize', 'chickpea', 'chickpea',\n",
              "       'chickpea', 'apple', 'rice', 'kidneybeans', 'papaya', 'coffee',\n",
              "       'blackgram', 'kidneybeans', 'mango', 'mango', 'coconut', 'papaya',\n",
              "       'apple', 'chickpea', 'pomegranate', 'chickpea', 'muskmelon',\n",
              "       'apple', 'muskmelon', 'muskmelon', 'mango', 'mango', 'cotton',\n",
              "       'coconut', 'pomegranate', 'rice', 'muskmelon', 'coffee', 'papaya',\n",
              "       'mothbeans', 'maize', 'mango', 'muskmelon', 'pigeonpeas',\n",
              "       'mungbean', 'coffee', 'grapes', 'coconut', 'cotton', 'pigeonpeas',\n",
              "       'rice', 'apple', 'pomegranate', 'coffee', 'chickpea', 'cotton',\n",
              "       'jute', 'mango', 'banana', 'papaya', 'apple', 'chickpea', 'rice',\n",
              "       'pigeonpeas', 'mothbeans', 'mungbean', 'jute', 'pomegranate',\n",
              "       'grapes', 'mothbeans', 'jute', 'maize', 'coconut', 'maize',\n",
              "       'chickpea', 'banana', 'jute', 'coconut', 'rice', 'mango',\n",
              "       'muskmelon', 'apple', 'banana', 'pigeonpeas', 'blackgram',\n",
              "       'orange', 'chickpea', 'watermelon', 'banana', 'apple', 'chickpea',\n",
              "       'coffee', 'pigeonpeas', 'orange', 'apple', 'jute', 'papaya',\n",
              "       'watermelon', 'mothbeans', 'papaya', 'chickpea', 'pomegranate',\n",
              "       'chickpea', 'papaya', 'lentil', 'apple', 'pomegranate', 'chickpea',\n",
              "       'mango', 'chickpea', 'pomegranate', 'watermelon', 'kidneybeans',\n",
              "       'mungbean', 'muskmelon', 'watermelon', 'kidneybeans', 'muskmelon',\n",
              "       'mango', 'jute', 'blackgram', 'chickpea', 'banana', 'blackgram',\n",
              "       'pigeonpeas', 'papaya', 'pigeonpeas', 'mungbean', 'coconut',\n",
              "       'cotton', 'grapes', 'apple', 'lentil', 'banana', 'jute', 'apple',\n",
              "       'pomegranate', 'apple', 'mungbean', 'muskmelon', 'coffee',\n",
              "       'coffee', 'pigeonpeas', 'jute', 'kidneybeans', 'banana', 'maize',\n",
              "       'jute', 'maize', 'pigeonpeas', 'mango', 'kidneybeans',\n",
              "       'pomegranate', 'watermelon', 'blackgram', 'maize', 'rice',\n",
              "       'mothbeans', 'kidneybeans', 'mango', 'cotton', 'papaya',\n",
              "       'mothbeans', 'cotton', 'mungbean', 'orange', 'rice', 'blackgram',\n",
              "       'mungbean', 'coffee', 'banana', 'pigeonpeas', 'papaya', 'apple',\n",
              "       'pomegranate', 'maize', 'mango', 'coconut', 'apple', 'lentil',\n",
              "       'jute', 'mothbeans', 'lentil', 'coconut', 'blackgram', 'jute',\n",
              "       'mungbean', 'cotton', 'watermelon', 'apple', 'grapes', 'coconut',\n",
              "       'grapes', 'watermelon', 'rice', 'mango', 'mango', 'coffee',\n",
              "       'pomegranate', 'banana', 'grapes', 'jute', 'orange', 'cotton',\n",
              "       'mango', 'papaya', 'muskmelon', 'mothbeans', 'jute', 'chickpea',\n",
              "       'mothbeans', 'pomegranate', 'watermelon', 'mothbeans', 'cotton',\n",
              "       'papaya', 'watermelon', 'lentil', 'rice', 'coconut', 'mothbeans',\n",
              "       'mothbeans', 'maize', 'rice', 'maize', 'coconut', 'orange',\n",
              "       'pomegranate', 'kidneybeans', 'watermelon', 'mungbean',\n",
              "       'blackgram', 'pomegranate', 'rice', 'cotton', 'cotton',\n",
              "       'pigeonpeas'], dtype=object)"
            ]
          },
          "metadata": {
            "tags": []
          },
          "execution_count": 38
        }
      ]
    },
    {
      "cell_type": "code",
      "metadata": {
        "colab": {
          "base_uri": "https://localhost:8080/"
        },
        "id": "V6PvLMAfXuKH",
        "outputId": "af818fe9-1987-4566-b347-10c45292fcad"
      },
      "source": [
        "print(confusion_matrix(y_test,y_entropy_predict))"
      ],
      "execution_count": null,
      "outputs": [
        {
          "output_type": "stream",
          "text": [
            "[[23  0  0  0  0  0  0  0  0  0  0  0  0  0  0  0  0  0  0  0  0  0]\n",
            " [ 0 21  0  0  0  0  0  0  0  0  0  0  0  0  0  0  0  0  0  0  0  0]\n",
            " [ 0  0 20  0  0  0  0  0  0  0  0  0  0  0  0  0  0  0  0  0  0  0]\n",
            " [ 0  0  0 26  0  0  0  0  0  0  0  0  0  0  0  0  0  0  0  0  0  0]\n",
            " [ 0  0  0  0 26  0  0  0  1  0  0  0  0  0  0  0  0  0  0  0  0  0]\n",
            " [ 0  0  0  0  0 17  0  0  0  0  0  0  0  0  0  0  0  0  0  0  0  0]\n",
            " [ 0  0  0  0  0  0 17  0  0  0  0  0  0  0  0  0  0  0  0  0  0  0]\n",
            " [ 0  0  0  0  0  0  0 14  0  0  0  0  0  0  0  0  0  0  0  0  0  0]\n",
            " [ 0  0  0  0  0  0  0  0 21  0  0  0  0  0  0  0  0  0  0  0  2  0]\n",
            " [ 0  0  0  0  0  0  0  0  0 19  0  0  0  1  0  0  0  0  0  0  0  0]\n",
            " [ 0  0  0  0  0  0  0  0  0  0 11  0  0  0  0  0  0  0  0  0  0  0]\n",
            " [ 0  0  0  0  0  0  0  0  0  0  0 21  0  0  0  0  0  0  0  0  0  0]\n",
            " [ 0  0  0  0  0  0  0  0  0  0  0  0 19  0  0  0  0  0  0  0  0  0]\n",
            " [ 0  0  0  0  0  0  0  0  0  0  1  0  0 23  0  0  0  0  0  0  0  0]\n",
            " [ 0  0  0  0  0  0  0  0  0  0  0  0  0  0 19  0  0  0  0  0  0  0]\n",
            " [ 0  0  0  0  0  0  0  0  0  0  0  0  0  0  0 17  0  0  0  0  0  0]\n",
            " [ 0  0  0  0  0  0  0  0  0  0  0  0  0  0  0  0 14  0  0  0  0  0]\n",
            " [ 0  0  0  0  0  0  0  0  0  0  0  0  0  0  0  0  0 23  0  0  0  0]\n",
            " [ 0  0  0  0  0  0  0  0  0  0  0  0  0  0  0  0  0  0 23  0  0  0]\n",
            " [ 0  0  0  0  0  0  0  0  0  0  0  0  0  0  0  0  0  0  0 23  0  0]\n",
            " [ 0  0  0  0  0  0  0  0  3  0  0  0  0  0  0  0  0  0  0  1 15  0]\n",
            " [ 0  0  0  0  0  0  0  0  0  0  0  0  0  0  0  0  0  0  0  0  0 19]]\n"
          ],
          "name": "stdout"
        }
      ]
    },
    {
      "cell_type": "code",
      "metadata": {
        "colab": {
          "base_uri": "https://localhost:8080/"
        },
        "id": "RfUAGfg-YgHQ",
        "outputId": "b8550d25-4acf-4bd0-e4c5-576abf25d9a7"
      },
      "source": [
        "print(classification_report(y_test, y_entropy_predict))"
      ],
      "execution_count": null,
      "outputs": [
        {
          "output_type": "stream",
          "text": [
            "              precision    recall  f1-score   support\n",
            "\n",
            "       apple       1.00      1.00      1.00        23\n",
            "      banana       1.00      1.00      1.00        21\n",
            "   blackgram       1.00      1.00      1.00        20\n",
            "    chickpea       1.00      1.00      1.00        26\n",
            "     coconut       1.00      0.96      0.98        27\n",
            "      coffee       1.00      1.00      1.00        17\n",
            "      cotton       1.00      1.00      1.00        17\n",
            "      grapes       1.00      1.00      1.00        14\n",
            "        jute       0.84      0.91      0.87        23\n",
            " kidneybeans       1.00      0.95      0.97        20\n",
            "      lentil       0.92      1.00      0.96        11\n",
            "       maize       1.00      1.00      1.00        21\n",
            "       mango       1.00      1.00      1.00        19\n",
            "   mothbeans       0.96      0.96      0.96        24\n",
            "    mungbean       1.00      1.00      1.00        19\n",
            "   muskmelon       1.00      1.00      1.00        17\n",
            "      orange       1.00      1.00      1.00        14\n",
            "      papaya       1.00      1.00      1.00        23\n",
            "  pigeonpeas       1.00      1.00      1.00        23\n",
            " pomegranate       0.96      1.00      0.98        23\n",
            "        rice       0.88      0.79      0.83        19\n",
            "  watermelon       1.00      1.00      1.00        19\n",
            "\n",
            "    accuracy                           0.98       440\n",
            "   macro avg       0.98      0.98      0.98       440\n",
            "weighted avg       0.98      0.98      0.98       440\n",
            "\n"
          ],
          "name": "stdout"
        }
      ]
    },
    {
      "cell_type": "code",
      "metadata": {
        "colab": {
          "base_uri": "https://localhost:8080/",
          "height": 794
        },
        "id": "bnhOMFqpVk1T",
        "outputId": "af2b6e54-c39d-4084-e665-789f4c7dc369"
      },
      "source": [
        "scatter_plot('Decision Tree Classifier Entropy Criterion',y_entropy_predict)"
      ],
      "execution_count": null,
      "outputs": [
        {
          "output_type": "display_data",
          "data": {
            "image/png": "[encoded data removed]",
            "text/plain": [
              "<Figure size 864x864 with 1 Axes>"
            ]
          },
          "metadata": {
            "tags": [],
            "needs_background": "light"
          }
        }
      ]
    },
    {
      "cell_type": "code",
      "metadata": {
        "colab": {
          "base_uri": "https://localhost:8080/"
        },
        "id": "HDA_mQbAYnZ1",
        "outputId": "6bc33435-9201-4f6c-c0f4-03abbc7b5263"
      },
      "source": [
        "dt_entropy_score = accuracy_score(y_test,y_entropy_predict)*100\n",
        "dt_entropy_score"
      ],
      "execution_count": null,
      "outputs": [
        {
          "output_type": "execute_result",
          "data": {
            "text/plain": [
              "97.95454545454545"
            ]
          },
          "metadata": {
            "tags": []
          },
          "execution_count": 42
        }
      ]
    },
    {
      "cell_type": "markdown",
      "metadata": {
        "id": "BWPrz3IlAWAC"
      },
      "source": [
        "**Conclusion**\n",
        "\n",
        "As we can see that gini index is better than entropy in Decisson Trees."
      ]
    },
    {
      "cell_type": "markdown",
      "metadata": {
        "id": "lHWT4iQkn7sx"
      },
      "source": [
        "# **RANDOM FOREST CLASSIFIER**"
      ]
    },
    {
      "cell_type": "markdown",
      "metadata": {
        "id": "I-onxo27oRcE"
      },
      "source": [
        "***Using Entropy***"
      ]
    },
    {
      "cell_type": "code",
      "metadata": {
        "id": "DsCkfs21oSKX"
      },
      "source": [
        "#importing Random Forest Classifier\n",
        "from sklearn.ensemble import RandomForestClassifier"
      ],
      "execution_count": null,
      "outputs": []
    },
    {
      "cell_type": "code",
      "metadata": {
        "id": "7ZkKY3SGoke-"
      },
      "source": [
        "#Using Entropy\n",
        "rf_clf = RandomForestClassifier(n_estimators=100,n_jobs=-1,criterion='entropy',random_state=100)"
      ],
      "execution_count": null,
      "outputs": []
    },
    {
      "cell_type": "code",
      "metadata": {
        "colab": {
          "base_uri": "https://localhost:8080/"
        },
        "id": "PTUE1Kt1pS68",
        "outputId": "a2ed4355-1bcf-4dc7-8edc-64747e3bd908"
      },
      "source": [
        "rf_clf.fit(x_train,y_train)"
      ],
      "execution_count": null,
      "outputs": [
        {
          "output_type": "execute_result",
          "data": {
            "text/plain": [
              "RandomForestClassifier(bootstrap=True, ccp_alpha=0.0, class_weight=None,\n",
              "                       criterion='entropy', max_depth=None, max_features='auto',\n",
              "                       max_leaf_nodes=None, max_samples=None,\n",
              "                       min_impurity_decrease=0.0, min_impurity_split=None,\n",
              "                       min_samples_leaf=1, min_samples_split=2,\n",
              "                       min_weight_fraction_leaf=0.0, n_estimators=100,\n",
              "                       n_jobs=-1, oob_score=False, random_state=100, verbose=0,\n",
              "                       warm_start=False)"
            ]
          },
          "metadata": {
            "tags": []
          },
          "execution_count": 45
        }
      ]
    },
    {
      "cell_type": "code",
      "metadata": {
        "colab": {
          "base_uri": "https://localhost:8080/"
        },
        "id": "SyOGg_xMpUqZ",
        "outputId": "1c4378d6-297d-4466-ff9d-0da28b366486"
      },
      "source": [
        "rf_train_accuracy = rf_clf.score(x_train, y_train)*100\n",
        "rf_train_accuracy"
      ],
      "execution_count": null,
      "outputs": [
        {
          "output_type": "execute_result",
          "data": {
            "text/plain": [
              "100.0"
            ]
          },
          "metadata": {
            "tags": []
          },
          "execution_count": 46
        }
      ]
    },
    {
      "cell_type": "code",
      "metadata": {
        "colab": {
          "base_uri": "https://localhost:8080/"
        },
        "id": "9FKFStM4pg4c",
        "outputId": "4131a213-ab23-4967-b3ff-e6ab434f5874"
      },
      "source": [
        "y_predicted_rf_clf = rf_clf.predict(x_test)\n",
        "y_predicted_rf_clf"
      ],
      "execution_count": null,
      "outputs": [
        {
          "output_type": "execute_result",
          "data": {
            "text/plain": [
              "array(['muskmelon', 'watermelon', 'papaya', 'papaya', 'apple', 'mango',\n",
              "       'apple', 'mothbeans', 'mungbean', 'lentil', 'blackgram', 'coconut',\n",
              "       'pomegranate', 'jute', 'coconut', 'pomegranate', 'apple', 'maize',\n",
              "       'papaya', 'muskmelon', 'coffee', 'papaya', 'orange', 'papaya',\n",
              "       'chickpea', 'jute', 'mungbean', 'orange', 'pigeonpeas', 'rice',\n",
              "       'pomegranate', 'mothbeans', 'jute', 'lentil', 'jute', 'blackgram',\n",
              "       'jute', 'chickpea', 'chickpea', 'kidneybeans', 'papaya', 'mango',\n",
              "       'blackgram', 'maize', 'mungbean', 'maize', 'pigeonpeas', 'coconut',\n",
              "       'muskmelon', 'maize', 'blackgram', 'coffee', 'grapes', 'mungbean',\n",
              "       'coffee', 'kidneybeans', 'cotton', 'apple', 'banana', 'blackgram',\n",
              "       'watermelon', 'coconut', 'lentil', 'orange', 'papaya',\n",
              "       'pigeonpeas', 'orange', 'rice', 'muskmelon', 'pigeonpeas',\n",
              "       'muskmelon', 'coconut', 'jute', 'banana', 'blackgram', 'papaya',\n",
              "       'banana', 'cotton', 'watermelon', 'orange', 'coffee', 'chickpea',\n",
              "       'rice', 'mothbeans', 'orange', 'mango', 'coffee', 'mothbeans',\n",
              "       'blackgram', 'pomegranate', 'maize', 'mothbeans', 'cotton',\n",
              "       'papaya', 'pigeonpeas', 'mothbeans', 'kidneybeans', 'coffee',\n",
              "       'blackgram', 'lentil', 'coconut', 'rice', 'orange', 'muskmelon',\n",
              "       'watermelon', 'kidneybeans', 'watermelon', 'banana', 'pigeonpeas',\n",
              "       'mothbeans', 'banana', 'jute', 'cotton', 'pomegranate',\n",
              "       'pigeonpeas', 'chickpea', 'maize', 'coconut', 'pomegranate',\n",
              "       'rice', 'pigeonpeas', 'grapes', 'blackgram', 'coconut', 'chickpea',\n",
              "       'blackgram', 'coconut', 'maize', 'banana', 'mothbeans', 'banana',\n",
              "       'kidneybeans', 'pomegranate', 'chickpea', 'coconut', 'orange',\n",
              "       'pigeonpeas', 'banana', 'banana', 'apple', 'kidneybeans',\n",
              "       'muskmelon', 'mungbean', 'mothbeans', 'coconut', 'maize', 'apple',\n",
              "       'coconut', 'kidneybeans', 'mothbeans', 'mungbean', 'lentil',\n",
              "       'watermelon', 'mungbean', 'pigeonpeas', 'pigeonpeas', 'pigeonpeas',\n",
              "       'kidneybeans', 'maize', 'jute', 'chickpea', 'apple', 'orange',\n",
              "       'cotton', 'rice', 'coconut', 'grapes', 'lentil', 'watermelon',\n",
              "       'grapes', 'grapes', 'blackgram', 'pomegranate', 'chickpea',\n",
              "       'coconut', 'maize', 'lentil', 'grapes', 'watermelon', 'jute',\n",
              "       'coffee', 'coffee', 'kidneybeans', 'jute', 'mothbeans',\n",
              "       'kidneybeans', 'banana', 'kidneybeans', 'coconut', 'papaya',\n",
              "       'papaya', 'mungbean', 'mango', 'pomegranate', 'watermelon',\n",
              "       'kidneybeans', 'maize', 'apple', 'blackgram', 'chickpea', 'grapes',\n",
              "       'grapes', 'banana', 'cotton', 'rice', 'pomegranate', 'mungbean',\n",
              "       'banana', 'jute', 'mungbean', 'maize', 'chickpea', 'chickpea',\n",
              "       'chickpea', 'apple', 'rice', 'kidneybeans', 'papaya', 'coffee',\n",
              "       'blackgram', 'kidneybeans', 'mango', 'mango', 'coconut', 'papaya',\n",
              "       'apple', 'chickpea', 'pomegranate', 'chickpea', 'muskmelon',\n",
              "       'apple', 'muskmelon', 'muskmelon', 'mango', 'mango', 'cotton',\n",
              "       'coconut', 'pomegranate', 'rice', 'muskmelon', 'coffee', 'papaya',\n",
              "       'mothbeans', 'maize', 'mango', 'muskmelon', 'pigeonpeas',\n",
              "       'mungbean', 'coffee', 'grapes', 'coconut', 'cotton', 'pigeonpeas',\n",
              "       'rice', 'apple', 'pomegranate', 'coffee', 'chickpea', 'cotton',\n",
              "       'jute', 'mango', 'banana', 'papaya', 'apple', 'chickpea', 'rice',\n",
              "       'pigeonpeas', 'mothbeans', 'mungbean', 'jute', 'pomegranate',\n",
              "       'grapes', 'mothbeans', 'jute', 'maize', 'coconut', 'maize',\n",
              "       'chickpea', 'banana', 'jute', 'coconut', 'jute', 'mango',\n",
              "       'muskmelon', 'apple', 'banana', 'pigeonpeas', 'blackgram',\n",
              "       'orange', 'chickpea', 'watermelon', 'banana', 'apple', 'chickpea',\n",
              "       'coffee', 'pigeonpeas', 'orange', 'apple', 'coconut', 'papaya',\n",
              "       'watermelon', 'mothbeans', 'papaya', 'chickpea', 'pomegranate',\n",
              "       'chickpea', 'papaya', 'lentil', 'apple', 'pomegranate', 'chickpea',\n",
              "       'mango', 'chickpea', 'pomegranate', 'watermelon', 'kidneybeans',\n",
              "       'mungbean', 'muskmelon', 'watermelon', 'kidneybeans', 'muskmelon',\n",
              "       'mango', 'jute', 'blackgram', 'chickpea', 'banana', 'blackgram',\n",
              "       'pigeonpeas', 'papaya', 'pigeonpeas', 'mungbean', 'coconut',\n",
              "       'cotton', 'grapes', 'apple', 'lentil', 'banana', 'jute', 'apple',\n",
              "       'pomegranate', 'apple', 'mungbean', 'muskmelon', 'coffee',\n",
              "       'coffee', 'pigeonpeas', 'jute', 'kidneybeans', 'banana', 'maize',\n",
              "       'jute', 'maize', 'pigeonpeas', 'mango', 'kidneybeans',\n",
              "       'pomegranate', 'watermelon', 'blackgram', 'maize', 'rice',\n",
              "       'mothbeans', 'kidneybeans', 'mango', 'cotton', 'papaya',\n",
              "       'mothbeans', 'cotton', 'mungbean', 'orange', 'jute', 'blackgram',\n",
              "       'mungbean', 'coffee', 'banana', 'pigeonpeas', 'papaya', 'apple',\n",
              "       'pomegranate', 'maize', 'mango', 'coconut', 'apple', 'lentil',\n",
              "       'jute', 'mothbeans', 'lentil', 'coconut', 'blackgram', 'jute',\n",
              "       'mungbean', 'cotton', 'watermelon', 'apple', 'grapes', 'coconut',\n",
              "       'grapes', 'watermelon', 'rice', 'mango', 'mango', 'coffee',\n",
              "       'pomegranate', 'banana', 'grapes', 'jute', 'orange', 'cotton',\n",
              "       'mango', 'papaya', 'muskmelon', 'mothbeans', 'jute', 'chickpea',\n",
              "       'mothbeans', 'pomegranate', 'watermelon', 'mothbeans', 'cotton',\n",
              "       'papaya', 'watermelon', 'lentil', 'rice', 'coconut', 'mothbeans',\n",
              "       'mothbeans', 'maize', 'rice', 'maize', 'coconut', 'orange',\n",
              "       'pomegranate', 'kidneybeans', 'watermelon', 'mungbean',\n",
              "       'blackgram', 'rice', 'rice', 'cotton', 'cotton', 'pigeonpeas'],\n",
              "      dtype=object)"
            ]
          },
          "metadata": {
            "tags": []
          },
          "execution_count": 47
        }
      ]
    },
    {
      "cell_type": "code",
      "metadata": {
        "colab": {
          "base_uri": "https://localhost:8080/"
        },
        "id": "JHtLOYjsp_yY",
        "outputId": "c95029e4-a83e-4aaa-c293-eab405fad661"
      },
      "source": [
        "print(confusion_matrix(y_test,y_predicted_rf_clf))"
      ],
      "execution_count": null,
      "outputs": [
        {
          "output_type": "stream",
          "text": [
            "[[23  0  0  0  0  0  0  0  0  0  0  0  0  0  0  0  0  0  0  0  0  0]\n",
            " [ 0 21  0  0  0  0  0  0  0  0  0  0  0  0  0  0  0  0  0  0  0  0]\n",
            " [ 0  0 20  0  0  0  0  0  0  0  0  0  0  0  0  0  0  0  0  0  0  0]\n",
            " [ 0  0  0 26  0  0  0  0  0  0  0  0  0  0  0  0  0  0  0  0  0  0]\n",
            " [ 0  0  0  0 27  0  0  0  0  0  0  0  0  0  0  0  0  0  0  0  0  0]\n",
            " [ 0  0  0  0  0 17  0  0  0  0  0  0  0  0  0  0  0  0  0  0  0  0]\n",
            " [ 0  0  0  0  0  0 17  0  0  0  0  0  0  0  0  0  0  0  0  0  0  0]\n",
            " [ 0  0  0  0  0  0  0 14  0  0  0  0  0  0  0  0  0  0  0  0  0  0]\n",
            " [ 0  0  0  0  0  0  0  0 23  0  0  0  0  0  0  0  0  0  0  0  0  0]\n",
            " [ 0  0  0  0  0  0  0  0  0 20  0  0  0  0  0  0  0  0  0  0  0  0]\n",
            " [ 0  0  0  0  0  0  0  0  0  0 11  0  0  0  0  0  0  0  0  0  0  0]\n",
            " [ 0  0  0  0  0  0  0  0  0  0  0 21  0  0  0  0  0  0  0  0  0  0]\n",
            " [ 0  0  0  0  0  0  0  0  0  0  0  0 19  0  0  0  0  0  0  0  0  0]\n",
            " [ 0  0  0  0  0  0  0  0  0  0  1  0  0 23  0  0  0  0  0  0  0  0]\n",
            " [ 0  0  0  0  0  0  0  0  0  0  0  0  0  0 19  0  0  0  0  0  0  0]\n",
            " [ 0  0  0  0  0  0  0  0  0  0  0  0  0  0  0 17  0  0  0  0  0  0]\n",
            " [ 0  0  0  0  0  0  0  0  0  0  0  0  0  0  0  0 14  0  0  0  0  0]\n",
            " [ 0  0  0  0  0  0  0  0  0  0  0  0  0  0  0  0  0 23  0  0  0  0]\n",
            " [ 0  0  0  0  0  0  0  0  0  0  0  0  0  0  0  0  0  0 23  0  0  0]\n",
            " [ 0  0  0  0  0  0  0  0  0  0  0  0  0  0  0  0  0  0  0 23  0  0]\n",
            " [ 0  0  0  0  0  0  0  0  2  0  0  0  0  0  0  0  0  0  0  0 17  0]\n",
            " [ 0  0  0  0  0  0  0  0  0  0  0  0  0  0  0  0  0  0  0  0  0 19]]\n"
          ],
          "name": "stdout"
        }
      ]
    },
    {
      "cell_type": "code",
      "metadata": {
        "colab": {
          "base_uri": "https://localhost:8080/"
        },
        "id": "6YliFqMQqJk7",
        "outputId": "90252643-0638-4559-991f-dc46190c42e9"
      },
      "source": [
        "print(classification_report(y_test,y_predicted_rf_clf))"
      ],
      "execution_count": null,
      "outputs": [
        {
          "output_type": "stream",
          "text": [
            "              precision    recall  f1-score   support\n",
            "\n",
            "       apple       1.00      1.00      1.00        23\n",
            "      banana       1.00      1.00      1.00        21\n",
            "   blackgram       1.00      1.00      1.00        20\n",
            "    chickpea       1.00      1.00      1.00        26\n",
            "     coconut       1.00      1.00      1.00        27\n",
            "      coffee       1.00      1.00      1.00        17\n",
            "      cotton       1.00      1.00      1.00        17\n",
            "      grapes       1.00      1.00      1.00        14\n",
            "        jute       0.92      1.00      0.96        23\n",
            " kidneybeans       1.00      1.00      1.00        20\n",
            "      lentil       0.92      1.00      0.96        11\n",
            "       maize       1.00      1.00      1.00        21\n",
            "       mango       1.00      1.00      1.00        19\n",
            "   mothbeans       1.00      0.96      0.98        24\n",
            "    mungbean       1.00      1.00      1.00        19\n",
            "   muskmelon       1.00      1.00      1.00        17\n",
            "      orange       1.00      1.00      1.00        14\n",
            "      papaya       1.00      1.00      1.00        23\n",
            "  pigeonpeas       1.00      1.00      1.00        23\n",
            " pomegranate       1.00      1.00      1.00        23\n",
            "        rice       1.00      0.89      0.94        19\n",
            "  watermelon       1.00      1.00      1.00        19\n",
            "\n",
            "    accuracy                           0.99       440\n",
            "   macro avg       0.99      0.99      0.99       440\n",
            "weighted avg       0.99      0.99      0.99       440\n",
            "\n"
          ],
          "name": "stdout"
        }
      ]
    },
    {
      "cell_type": "code",
      "metadata": {
        "colab": {
          "base_uri": "https://localhost:8080/",
          "height": 794
        },
        "id": "oK1oU6f5qRh0",
        "outputId": "ab753957-6369-4239-ae03-5cd9ed397090"
      },
      "source": [
        "scatter_plot('Random Forest Classifier Entropy Criterion',y_predicted_rf_clf)"
      ],
      "execution_count": null,
      "outputs": [
        {
          "output_type": "display_data",
          "data": {
            "image/png": "[encoded data removed]",
            "text/plain": [
              "<Figure size 864x864 with 1 Axes>"
            ]
          },
          "metadata": {
            "tags": [],
            "needs_background": "light"
          }
        }
      ]
    },
    {
      "cell_type": "code",
      "metadata": {
        "colab": {
          "base_uri": "https://localhost:8080/"
        },
        "id": "c_u0FZeEqXa1",
        "outputId": "36924519-d428-45bc-dae5-e9c5104108aa"
      },
      "source": [
        "rf_test_accuracy = accuracy_score(y_test,y_predicted_rf_clf)*100\n",
        "rf_test_accuracy"
      ],
      "execution_count": null,
      "outputs": [
        {
          "output_type": "execute_result",
          "data": {
            "text/plain": [
              "99.31818181818181"
            ]
          },
          "metadata": {
            "tags": []
          },
          "execution_count": 51
        }
      ]
    },
    {
      "cell_type": "markdown",
      "metadata": {
        "id": "Aik0AjUPqnBj"
      },
      "source": [
        "***Using Gini***"
      ]
    },
    {
      "cell_type": "code",
      "metadata": {
        "colab": {
          "base_uri": "https://localhost:8080/"
        },
        "id": "ODtD73aGqihB",
        "outputId": "e3c4fcf2-d087-448e-dd12-873d1d286da7"
      },
      "source": [
        "#Using Gini\n",
        "rf_clf_gini =RandomForestClassifier(n_estimators=100,n_jobs=-1,criterion='gini',random_state=100)\n",
        "rf_clf_gini"
      ],
      "execution_count": null,
      "outputs": [
        {
          "output_type": "execute_result",
          "data": {
            "text/plain": [
              "RandomForestClassifier(bootstrap=True, ccp_alpha=0.0, class_weight=None,\n",
              "                       criterion='gini', max_depth=None, max_features='auto',\n",
              "                       max_leaf_nodes=None, max_samples=None,\n",
              "                       min_impurity_decrease=0.0, min_impurity_split=None,\n",
              "                       min_samples_leaf=1, min_samples_split=2,\n",
              "                       min_weight_fraction_leaf=0.0, n_estimators=100,\n",
              "                       n_jobs=-1, oob_score=False, random_state=100, verbose=0,\n",
              "                       warm_start=False)"
            ]
          },
          "metadata": {
            "tags": []
          },
          "execution_count": 52
        }
      ]
    },
    {
      "cell_type": "code",
      "metadata": {
        "colab": {
          "base_uri": "https://localhost:8080/"
        },
        "id": "JV-czF0xqzho",
        "outputId": "6bf56042-4c7f-4cef-a30f-4a728cbdd89d"
      },
      "source": [
        "rf_clf_gini.fit(x_train,y_train)"
      ],
      "execution_count": null,
      "outputs": [
        {
          "output_type": "execute_result",
          "data": {
            "text/plain": [
              "RandomForestClassifier(bootstrap=True, ccp_alpha=0.0, class_weight=None,\n",
              "                       criterion='gini', max_depth=None, max_features='auto',\n",
              "                       max_leaf_nodes=None, max_samples=None,\n",
              "                       min_impurity_decrease=0.0, min_impurity_split=None,\n",
              "                       min_samples_leaf=1, min_samples_split=2,\n",
              "                       min_weight_fraction_leaf=0.0, n_estimators=100,\n",
              "                       n_jobs=-1, oob_score=False, random_state=100, verbose=0,\n",
              "                       warm_start=False)"
            ]
          },
          "metadata": {
            "tags": []
          },
          "execution_count": 53
        }
      ]
    },
    {
      "cell_type": "code",
      "metadata": {
        "colab": {
          "base_uri": "https://localhost:8080/"
        },
        "id": "8xFTg8Q8q6NU",
        "outputId": "735a84db-8c6e-470b-f901-ae8def891f1f"
      },
      "source": [
        "rf_gini_train_sore = rf_clf_gini.score(x_train,y_train)*100\n",
        "rf_gini_train_sore"
      ],
      "execution_count": null,
      "outputs": [
        {
          "output_type": "execute_result",
          "data": {
            "text/plain": [
              "100.0"
            ]
          },
          "metadata": {
            "tags": []
          },
          "execution_count": 54
        }
      ]
    },
    {
      "cell_type": "code",
      "metadata": {
        "colab": {
          "base_uri": "https://localhost:8080/"
        },
        "id": "JYdngnI-rCwR",
        "outputId": "840b0c84-c00d-43f4-9413-13dbe0256b77"
      },
      "source": [
        "y_predict_gini_clf = rf_clf_gini.predict(x_test)\n",
        "y_predict_gini_clf"
      ],
      "execution_count": null,
      "outputs": [
        {
          "output_type": "execute_result",
          "data": {
            "text/plain": [
              "array(['muskmelon', 'watermelon', 'papaya', 'papaya', 'apple', 'mango',\n",
              "       'apple', 'mothbeans', 'mungbean', 'lentil', 'blackgram', 'coconut',\n",
              "       'pomegranate', 'jute', 'coconut', 'pomegranate', 'apple', 'maize',\n",
              "       'papaya', 'muskmelon', 'coffee', 'papaya', 'orange', 'papaya',\n",
              "       'chickpea', 'jute', 'mungbean', 'orange', 'pigeonpeas', 'rice',\n",
              "       'pomegranate', 'mothbeans', 'jute', 'lentil', 'jute', 'blackgram',\n",
              "       'jute', 'chickpea', 'chickpea', 'kidneybeans', 'papaya', 'mango',\n",
              "       'blackgram', 'maize', 'mungbean', 'maize', 'pigeonpeas', 'coconut',\n",
              "       'muskmelon', 'maize', 'blackgram', 'coffee', 'grapes', 'mungbean',\n",
              "       'coffee', 'kidneybeans', 'cotton', 'apple', 'banana', 'blackgram',\n",
              "       'watermelon', 'coconut', 'lentil', 'orange', 'papaya',\n",
              "       'pigeonpeas', 'orange', 'rice', 'muskmelon', 'pigeonpeas',\n",
              "       'muskmelon', 'coconut', 'jute', 'banana', 'blackgram', 'papaya',\n",
              "       'banana', 'cotton', 'watermelon', 'orange', 'coffee', 'chickpea',\n",
              "       'rice', 'mothbeans', 'orange', 'mango', 'coffee', 'mothbeans',\n",
              "       'blackgram', 'pomegranate', 'maize', 'mothbeans', 'cotton',\n",
              "       'papaya', 'pigeonpeas', 'mothbeans', 'kidneybeans', 'coffee',\n",
              "       'blackgram', 'lentil', 'coconut', 'rice', 'orange', 'muskmelon',\n",
              "       'watermelon', 'kidneybeans', 'watermelon', 'banana', 'pigeonpeas',\n",
              "       'mothbeans', 'banana', 'jute', 'cotton', 'pomegranate',\n",
              "       'pigeonpeas', 'chickpea', 'maize', 'coconut', 'pomegranate',\n",
              "       'rice', 'pigeonpeas', 'grapes', 'blackgram', 'coconut', 'chickpea',\n",
              "       'blackgram', 'coconut', 'maize', 'banana', 'mothbeans', 'banana',\n",
              "       'kidneybeans', 'pomegranate', 'chickpea', 'coconut', 'orange',\n",
              "       'pigeonpeas', 'banana', 'banana', 'apple', 'kidneybeans',\n",
              "       'muskmelon', 'mungbean', 'mothbeans', 'coconut', 'maize', 'apple',\n",
              "       'coconut', 'kidneybeans', 'mothbeans', 'mungbean', 'lentil',\n",
              "       'watermelon', 'mungbean', 'pigeonpeas', 'pigeonpeas', 'pigeonpeas',\n",
              "       'kidneybeans', 'maize', 'jute', 'chickpea', 'apple', 'orange',\n",
              "       'cotton', 'rice', 'coconut', 'grapes', 'lentil', 'watermelon',\n",
              "       'grapes', 'grapes', 'blackgram', 'pomegranate', 'chickpea',\n",
              "       'coconut', 'maize', 'lentil', 'grapes', 'watermelon', 'jute',\n",
              "       'coffee', 'coffee', 'kidneybeans', 'jute', 'mothbeans',\n",
              "       'kidneybeans', 'banana', 'kidneybeans', 'coconut', 'papaya',\n",
              "       'papaya', 'mungbean', 'mango', 'pomegranate', 'watermelon',\n",
              "       'kidneybeans', 'maize', 'apple', 'blackgram', 'chickpea', 'grapes',\n",
              "       'grapes', 'banana', 'cotton', 'rice', 'pomegranate', 'mungbean',\n",
              "       'banana', 'jute', 'mungbean', 'maize', 'chickpea', 'chickpea',\n",
              "       'chickpea', 'apple', 'rice', 'kidneybeans', 'papaya', 'coffee',\n",
              "       'blackgram', 'kidneybeans', 'mango', 'mango', 'coconut', 'papaya',\n",
              "       'apple', 'chickpea', 'pomegranate', 'chickpea', 'muskmelon',\n",
              "       'apple', 'muskmelon', 'muskmelon', 'mango', 'mango', 'cotton',\n",
              "       'coconut', 'pomegranate', 'rice', 'muskmelon', 'coffee', 'papaya',\n",
              "       'mothbeans', 'maize', 'mango', 'muskmelon', 'pigeonpeas',\n",
              "       'mungbean', 'coffee', 'grapes', 'coconut', 'cotton', 'pigeonpeas',\n",
              "       'rice', 'apple', 'pomegranate', 'coffee', 'chickpea', 'cotton',\n",
              "       'jute', 'mango', 'banana', 'papaya', 'apple', 'chickpea', 'rice',\n",
              "       'pigeonpeas', 'mothbeans', 'mungbean', 'jute', 'pomegranate',\n",
              "       'grapes', 'mothbeans', 'jute', 'maize', 'coconut', 'maize',\n",
              "       'chickpea', 'banana', 'jute', 'coconut', 'jute', 'mango',\n",
              "       'muskmelon', 'apple', 'banana', 'pigeonpeas', 'blackgram',\n",
              "       'orange', 'chickpea', 'watermelon', 'banana', 'apple', 'chickpea',\n",
              "       'coffee', 'pigeonpeas', 'orange', 'apple', 'coconut', 'papaya',\n",
              "       'watermelon', 'mothbeans', 'papaya', 'chickpea', 'pomegranate',\n",
              "       'chickpea', 'papaya', 'lentil', 'apple', 'pomegranate', 'chickpea',\n",
              "       'mango', 'chickpea', 'pomegranate', 'watermelon', 'kidneybeans',\n",
              "       'mungbean', 'muskmelon', 'watermelon', 'kidneybeans', 'muskmelon',\n",
              "       'mango', 'jute', 'blackgram', 'chickpea', 'banana', 'blackgram',\n",
              "       'pigeonpeas', 'papaya', 'pigeonpeas', 'mungbean', 'coconut',\n",
              "       'cotton', 'grapes', 'apple', 'lentil', 'banana', 'jute', 'apple',\n",
              "       'pomegranate', 'apple', 'mungbean', 'muskmelon', 'coffee',\n",
              "       'coffee', 'pigeonpeas', 'jute', 'kidneybeans', 'banana', 'maize',\n",
              "       'jute', 'maize', 'pigeonpeas', 'mango', 'kidneybeans',\n",
              "       'pomegranate', 'watermelon', 'blackgram', 'maize', 'rice',\n",
              "       'mothbeans', 'kidneybeans', 'mango', 'cotton', 'papaya',\n",
              "       'mothbeans', 'cotton', 'mungbean', 'orange', 'jute', 'blackgram',\n",
              "       'mungbean', 'coffee', 'banana', 'pigeonpeas', 'papaya', 'apple',\n",
              "       'pomegranate', 'maize', 'mango', 'coconut', 'apple', 'lentil',\n",
              "       'jute', 'mothbeans', 'lentil', 'coconut', 'blackgram', 'jute',\n",
              "       'mungbean', 'cotton', 'watermelon', 'apple', 'grapes', 'coconut',\n",
              "       'grapes', 'watermelon', 'rice', 'mango', 'mango', 'coffee',\n",
              "       'pomegranate', 'banana', 'grapes', 'jute', 'orange', 'cotton',\n",
              "       'mango', 'papaya', 'muskmelon', 'mothbeans', 'jute', 'chickpea',\n",
              "       'mothbeans', 'pomegranate', 'watermelon', 'mothbeans', 'cotton',\n",
              "       'papaya', 'watermelon', 'lentil', 'rice', 'coconut', 'mothbeans',\n",
              "       'mothbeans', 'maize', 'rice', 'maize', 'coconut', 'orange',\n",
              "       'pomegranate', 'kidneybeans', 'watermelon', 'mungbean',\n",
              "       'blackgram', 'rice', 'rice', 'cotton', 'cotton', 'pigeonpeas'],\n",
              "      dtype=object)"
            ]
          },
          "metadata": {
            "tags": []
          },
          "execution_count": 55
        }
      ]
    },
    {
      "cell_type": "code",
      "metadata": {
        "colab": {
          "base_uri": "https://localhost:8080/"
        },
        "id": "a3Fk7un5rHS5",
        "outputId": "a46e42ae-3ce8-4e88-f25e-d06183128b4b"
      },
      "source": [
        "print(confusion_matrix(y_test, y_predict_gini_clf))"
      ],
      "execution_count": null,
      "outputs": [
        {
          "output_type": "stream",
          "text": [
            "[[23  0  0  0  0  0  0  0  0  0  0  0  0  0  0  0  0  0  0  0  0  0]\n",
            " [ 0 21  0  0  0  0  0  0  0  0  0  0  0  0  0  0  0  0  0  0  0  0]\n",
            " [ 0  0 20  0  0  0  0  0  0  0  0  0  0  0  0  0  0  0  0  0  0  0]\n",
            " [ 0  0  0 26  0  0  0  0  0  0  0  0  0  0  0  0  0  0  0  0  0  0]\n",
            " [ 0  0  0  0 27  0  0  0  0  0  0  0  0  0  0  0  0  0  0  0  0  0]\n",
            " [ 0  0  0  0  0 17  0  0  0  0  0  0  0  0  0  0  0  0  0  0  0  0]\n",
            " [ 0  0  0  0  0  0 17  0  0  0  0  0  0  0  0  0  0  0  0  0  0  0]\n",
            " [ 0  0  0  0  0  0  0 14  0  0  0  0  0  0  0  0  0  0  0  0  0  0]\n",
            " [ 0  0  0  0  0  0  0  0 23  0  0  0  0  0  0  0  0  0  0  0  0  0]\n",
            " [ 0  0  0  0  0  0  0  0  0 20  0  0  0  0  0  0  0  0  0  0  0  0]\n",
            " [ 0  0  0  0  0  0  0  0  0  0 11  0  0  0  0  0  0  0  0  0  0  0]\n",
            " [ 0  0  0  0  0  0  0  0  0  0  0 21  0  0  0  0  0  0  0  0  0  0]\n",
            " [ 0  0  0  0  0  0  0  0  0  0  0  0 19  0  0  0  0  0  0  0  0  0]\n",
            " [ 0  0  0  0  0  0  0  0  0  0  1  0  0 23  0  0  0  0  0  0  0  0]\n",
            " [ 0  0  0  0  0  0  0  0  0  0  0  0  0  0 19  0  0  0  0  0  0  0]\n",
            " [ 0  0  0  0  0  0  0  0  0  0  0  0  0  0  0 17  0  0  0  0  0  0]\n",
            " [ 0  0  0  0  0  0  0  0  0  0  0  0  0  0  0  0 14  0  0  0  0  0]\n",
            " [ 0  0  0  0  0  0  0  0  0  0  0  0  0  0  0  0  0 23  0  0  0  0]\n",
            " [ 0  0  0  0  0  0  0  0  0  0  0  0  0  0  0  0  0  0 23  0  0  0]\n",
            " [ 0  0  0  0  0  0  0  0  0  0  0  0  0  0  0  0  0  0  0 23  0  0]\n",
            " [ 0  0  0  0  0  0  0  0  2  0  0  0  0  0  0  0  0  0  0  0 17  0]\n",
            " [ 0  0  0  0  0  0  0  0  0  0  0  0  0  0  0  0  0  0  0  0  0 19]]\n"
          ],
          "name": "stdout"
        }
      ]
    },
    {
      "cell_type": "code",
      "metadata": {
        "colab": {
          "base_uri": "https://localhost:8080/"
        },
        "id": "EEw7qrHJrNtZ",
        "outputId": "879115fd-791e-43a9-cc18-6234a620bef7"
      },
      "source": [
        "print(classification_report(y_test, y_predict_gini_clf))"
      ],
      "execution_count": null,
      "outputs": [
        {
          "output_type": "stream",
          "text": [
            "              precision    recall  f1-score   support\n",
            "\n",
            "       apple       1.00      1.00      1.00        23\n",
            "      banana       1.00      1.00      1.00        21\n",
            "   blackgram       1.00      1.00      1.00        20\n",
            "    chickpea       1.00      1.00      1.00        26\n",
            "     coconut       1.00      1.00      1.00        27\n",
            "      coffee       1.00      1.00      1.00        17\n",
            "      cotton       1.00      1.00      1.00        17\n",
            "      grapes       1.00      1.00      1.00        14\n",
            "        jute       0.92      1.00      0.96        23\n",
            " kidneybeans       1.00      1.00      1.00        20\n",
            "      lentil       0.92      1.00      0.96        11\n",
            "       maize       1.00      1.00      1.00        21\n",
            "       mango       1.00      1.00      1.00        19\n",
            "   mothbeans       1.00      0.96      0.98        24\n",
            "    mungbean       1.00      1.00      1.00        19\n",
            "   muskmelon       1.00      1.00      1.00        17\n",
            "      orange       1.00      1.00      1.00        14\n",
            "      papaya       1.00      1.00      1.00        23\n",
            "  pigeonpeas       1.00      1.00      1.00        23\n",
            " pomegranate       1.00      1.00      1.00        23\n",
            "        rice       1.00      0.89      0.94        19\n",
            "  watermelon       1.00      1.00      1.00        19\n",
            "\n",
            "    accuracy                           0.99       440\n",
            "   macro avg       0.99      0.99      0.99       440\n",
            "weighted avg       0.99      0.99      0.99       440\n",
            "\n"
          ],
          "name": "stdout"
        }
      ]
    },
    {
      "cell_type": "code",
      "metadata": {
        "colab": {
          "base_uri": "https://localhost:8080/",
          "height": 794
        },
        "id": "c96vB4QOrQn6",
        "outputId": "2a8b5eb8-23d0-4f0a-939b-4076c644a20c"
      },
      "source": [
        "scatter_plot('Random Forest Classifier Gini Criterion',y_predict_gini_clf)"
      ],
      "execution_count": null,
      "outputs": [
        {
          "output_type": "display_data",
          "data": {
            "image/png": "[encoded data removed]",
            "text/plain": [
              "<Figure size 864x864 with 1 Axes>"
            ]
          },
          "metadata": {
            "tags": [],
            "needs_background": "light"
          }
        }
      ]
    },
    {
      "cell_type": "code",
      "metadata": {
        "colab": {
          "base_uri": "https://localhost:8080/"
        },
        "id": "3_wAFVJurgmw",
        "outputId": "a1560200-c275-4693-a193-4bdd4d9ed5f8"
      },
      "source": [
        "rfg_test_accuracy = accuracy_score(y_test,y_predict_gini_clf)*100\n",
        "rfg_test_accuracy"
      ],
      "execution_count": null,
      "outputs": [
        {
          "output_type": "execute_result",
          "data": {
            "text/plain": [
              "99.31818181818181"
            ]
          },
          "metadata": {
            "tags": []
          },
          "execution_count": 59
        }
      ]
    },
    {
      "cell_type": "markdown",
      "metadata": {
        "id": "ij_u9JVJrqA0"
      },
      "source": [
        "**Conclusion**\n",
        "\n",
        "As we can see, there is no difference when using gini index compared to entropy as splitting criterion. Therefore any one of gini or entropy can be used as splitting criterion."
      ]
    },
    {
      "cell_type": "markdown",
      "metadata": {
        "id": "w5aa0Hw7qAc8"
      },
      "source": [
        "# Comparisson Between the models"
      ]
    },
    {
      "cell_type": "code",
      "metadata": {
        "colab": {
          "base_uri": "https://localhost:8080/",
          "height": 463
        },
        "id": "PVfZdDUhVxQz",
        "outputId": "44029a28-5105-4e75-b0e7-0348f20d698d"
      },
      "source": [
        "##Printing graph and table that shows the comparison between the models.\n",
        "y_values = [knn_test_accuracy,dt_gini_score,dt_entropy_score,rfg_test_accuracy,rf_test_accuracy]\n",
        "x_values = ['KNN','Decision Tree Gini','Decision Tree Entropy','Random Forest Gini','Random Forest Entropy']\n",
        "plt.figure(figsize=(5,5))\n",
        "plt.xticks(rotation = 90)\n",
        "plt.xlabel('Models', fontsize=15)\n",
        "plt.ylabel('Accuracy',fontsize = 15)\n",
        "plt.title('Accuracy comparision of each model',fontsize = 16)\n",
        "plt.plot(x_values,y_values)\n",
        "plt.show()"
      ],
      "execution_count": null,
      "outputs": [
        {
          "output_type": "display_data",
          "data": {
            "image/png": "[encoded data removed]",
            "text/plain": [
              "<Figure size 360x360 with 1 Axes>"
            ]
          },
          "metadata": {
            "tags": [],
            "needs_background": "light"
          }
        }
      ]
    },
    {
      "cell_type": "code",
      "metadata": {
        "colab": {
          "base_uri": "https://localhost:8080/",
          "height": 411
        },
        "id": "xXmdvEFSgWIW",
        "outputId": "5310ea0a-10af-40f7-c093-3218ce79a008"
      },
      "source": [
        "#BarPlot\n",
        "plt.figure(figsize=(15,6))\n",
        "plt.xticks(rotation = 0)\n",
        "plt.xlabel('Models', fontsize=15)\n",
        "plt.ylabel('Accuracy',fontsize = 15)\n",
        "plt.ylim(95,100);\n",
        "plt.bar(x_values,y_values, color ='maroon', width = 0.4)\n",
        "plt.title('Accuracy comparision of each model',fontsize = 16)\n",
        "plt.show()"
      ],
      "execution_count": null,
      "outputs": [
        {
          "output_type": "display_data",
          "data": {
            "image/png": "[encoded data removed]",
            "text/plain": [
              "<Figure size 1080x432 with 1 Axes>"
            ]
          },
          "metadata": {
            "tags": [],
            "needs_background": "light"
          }
        }
      ]
    },
    {
      "cell_type": "code",
      "metadata": {
        "colab": {
          "base_uri": "https://localhost:8080/",
          "height": 411
        },
        "id": "xbVrOXQ27pU4",
        "outputId": "9ac4ca30-f0a9-4bca-b229-f40b5aedac22"
      },
      "source": [
        "#Seaborn Plot with annotation\n",
        "import seaborn as sns\n",
        "\n",
        "plt.figure(figsize=(12,6))\n",
        "plt.ylim(95,100);\n",
        "plt.xlabel('Models', fontsize=15)\n",
        "plt.ylabel('Accuracy',fontsize = 15)\n",
        "plt.title('Accuracy comparision of each model',fontsize = 16)\n",
        "plots = sns.barplot(x=x_values, y=y_values,color ='maroon')\n",
        "for bar in plots.patches:\n",
        "      plots.annotate(format(bar.get_height(), '.2f'),\n",
        "                   (bar.get_x() + bar.get_width() / 2,\n",
        "                    bar.get_height()), ha='center', va='center',\n",
        "                   size=15, xytext=(0, 8),\n",
        "                   textcoords='offset points')\n",
        "def change_width(ax, new_value) :\n",
        "    for patch in ax.patches :\n",
        "        current_width = patch.get_width()\n",
        "        diff = current_width - new_value\n",
        "        # we change the bar width\n",
        "        patch.set_width(new_value)\n",
        "        # we recenter the bar\n",
        "        patch.set_x(patch.get_x() + diff * .5)\n",
        "change_width(plots, .50)\n",
        "plt.show()"
      ],
      "execution_count": null,
      "outputs": [
        {
          "output_type": "display_data",
          "data": {
            "image/png": "[encoded data removed]",
            "text/plain": [
              "<Figure size 864x432 with 1 Axes>"
            ]
          },
          "metadata": {
            "tags": [],
            "needs_background": "light"
          }
        }
      ]
    },
    {
      "cell_type": "code",
      "metadata": {
        "colab": {
          "base_uri": "https://localhost:8080/"
        },
        "id": "di-Gpe-2YyAD",
        "outputId": "c5866ab4-43db-47af-cd0f-05dede46e7b7"
      },
      "source": [
        "print('-----------------------------------------------------------------------------------')\n",
        "print('| Models\\t\\t\\t\\t\\t| Training Score | Model Accuracy |')\n",
        "print('-----------------------------------------------------------------------------------')\n",
        "print('| K Nearest Neighbors Classifier\\t\\t|',round(knn_train_accuracy,2),'\\t |',round(knn_test_accuracy,2),'\\t  |')\n",
        "print('| Decision Tree Classifier Entropy criterion\\t|',round(dt_entropy_train_score,2),'\\t |',round(dt_entropy_score,2),'\\t  |')\n",
        "print('| Decision Tree Classifier Gini criterion\\t|',round(dt_gini_train_score,2),'\\t |',round(dt_gini_score,2),'\\t  |')\n",
        "print('| Random Forest Classifier Entropy criterion\\t|',round(rf_train_accuracy,2),'\\t |',round(rf_test_accuracy,2),'\\t  |')\n",
        "print('| Random Forest Classifier Gini criterion\\t|',round(rf_gini_train_sore,2),'\\t |',round(rfg_test_accuracy,2),'\\t  |')\n",
        "print('-----------------------------------------------------------------------------------')"
      ],
      "execution_count": null,
      "outputs": [
        {
          "output_type": "stream",
          "text": [
            "-----------------------------------------------------------------------------------\n",
            "| Models\t\t\t\t\t| Training Score | Model Accuracy |\n",
            "-----------------------------------------------------------------------------------\n",
            "| K Nearest Neighbors Classifier\t\t| 98.98 \t | 97.05 \t  |\n",
            "| Decision Tree Classifier Entropy criterion\t| 100.0 \t | 97.95 \t  |\n",
            "| Decision Tree Classifier Gini criterion\t| 100.0 \t | 98.86 \t  |\n",
            "| Random Forest Classifier Entropy criterion\t| 100.0 \t | 99.32 \t  |\n",
            "| Random Forest Classifier Gini criterion\t| 100.0 \t | 99.32 \t  |\n",
            "-----------------------------------------------------------------------------------\n"
          ],
          "name": "stdout"
        }
      ]
    }
  ]
}